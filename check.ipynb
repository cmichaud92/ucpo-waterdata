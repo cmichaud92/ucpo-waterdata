{
 "cells": [
  {
   "cell_type": "code",
   "execution_count": 1,
   "id": "112cfd2f",
   "metadata": {},
   "outputs": [],
   "source": [
    "from src.database.connection import connect_duckdb"
   ]
  },
  {
   "cell_type": "code",
   "execution_count": 3,
   "id": "c78791c8",
   "metadata": {},
   "outputs": [],
   "source": [
    "with connect_duckdb() as con:\n",
    "                # Get all NWIS sites\n",
    "                nwis_sites = con.execute(\"\"\"\n",
    "                    SELECT s.site_id, s.site_cd, s.site_nm\n",
    "                    FROM site s\n",
    "                    INNER JOIN source src ON s.source_id = src.source_id\n",
    "                    WHERE src.source_cd = 'NWIS'\n",
    "                    ORDER BY s.site_cd\n",
    "                \"\"\").fetchall()"
   ]
  },
  {
   "cell_type": "code",
   "execution_count": 6,
   "id": "12a6ccd1",
   "metadata": {},
   "outputs": [
    {
     "name": "stdout",
     "output_type": "stream",
     "text": [
      "[(1, '09041395', 'WOLFORD MTN RESERVOIR NR KREMMLING, CO'), (2, '09095500', 'COLORADO RIVER NEAR CAMEO, CO.'), (3, '09106150', 'COLO RIVER BELOW GRAND VALLEY DIV NR PALISADE, CO'), (4, '09106485', 'COLORADO R. ABV GUNNISON R. AT GRAND JUNCTION, CO'), (5, '09147022', 'RIDGWAY RESERVOIR NEAR RIDGWAY, CO')]\n"
     ]
    },
    {
     "data": {
      "text/plain": [
       "tuple"
      ]
     },
     "execution_count": 6,
     "metadata": {},
     "output_type": "execute_result"
    }
   ],
   "source": [
    "type(nwis_sites)\n",
    "print(nwis_sites[:5])  # Display first 5 sites for verification\n",
    "type(nwis_sites[0])  # Check the type of the first site entry"
   ]
  },
  {
   "cell_type": "code",
   "execution_count": 7,
   "id": "f9b8869e",
   "metadata": {},
   "outputs": [],
   "source": [
    "with connect_duckdb() as con:\n",
    "                # Get all HDB sites with their site_datatype_ids\n",
    "                hdb_sites = con.execute(\"\"\"\n",
    "                    SELECT s.site_id, s.site_cd, s.site_nm, u.usbr_site_parameter_cd\n",
    "                    FROM site s\n",
    "                    INNER JOIN source src ON s.source_id = src.source_id\n",
    "                    INNER JOIN site_parameter sp ON s.site_id = sp.site_id\n",
    "                    INNER JOIN usbr_site_parameter u ON sp.site_parameter_id = u.site_parameter_id\n",
    "                    WHERE src.source_cd = 'HDB'\n",
    "                    ORDER BY s.site_cd\n",
    "                \"\"\").fetchall()"
   ]
  }
 ],
 "metadata": {
  "kernelspec": {
   "display_name": "ucpo_waterdata",
   "language": "python",
   "name": "python3"
  },
  "language_info": {
   "codemirror_mode": {
    "name": "ipython",
    "version": 3
   },
   "file_extension": ".py",
   "mimetype": "text/x-python",
   "name": "python",
   "nbconvert_exporter": "python",
   "pygments_lexer": "ipython3",
   "version": "3.12.9"
  }
 },
 "nbformat": 4,
 "nbformat_minor": 5
}
