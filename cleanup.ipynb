{
 "cells": [
  {
   "cell_type": "code",
   "execution_count": null,
   "id": "6220e2b5",
   "metadata": {},
   "outputs": [],
   "source": [
    "\n",
    "from src.utils.execute_sql_script import execute_sql_script\n",
    "from pathlib import Path\n",
    "import src.utils.fetch_data as fd\n",
    "import src.utils.duckdb_utils as du\n",
    "import pandas as pd\n",
    "\n"
   ]
  },
  {
   "cell_type": "code",
   "execution_count": null,
   "id": "f9191850",
   "metadata": {},
   "outputs": [],
   "source": [
    "du.run_sql_file(Path('../db/schema.sql'))"
   ]
  },
  {
   "cell_type": "code",
   "execution_count": null,
   "id": "ee9ffe40",
   "metadata": {},
   "outputs": [],
   "source": [
    "du.run_sql_file(Path('../db/views.sql'))"
   ]
  },
  {
   "cell_type": "code",
   "execution_count": null,
   "id": "b8657ed3",
   "metadata": {},
   "outputs": [],
   "source": [
    "ck = fd.fetch_approval_status('09163500')"
   ]
  },
  {
   "cell_type": "code",
   "execution_count": null,
   "id": "0445b41c",
   "metadata": {},
   "outputs": [],
   "source": [
    "with du.connect_duckdb() as con:\n",
    "    #ck_site_loc = con.execute('SELECT * FROM vw_site_locations').df()\n",
    "    #ck_daily_agg = con.execute('SELECT * FROM vw_nwis_daily_stats_local').df()\n",
    "    #ck_annual_agg = con.execute('SELECT * FROM vw_nwis_annual_stats_local').df()\n",
    "    ck_approved = con.execute('SELECT * FROM vw_nwis_iv_status').df()"
   ]
  },
  {
   "cell_type": "code",
   "execution_count": null,
   "id": "ea997ab0",
   "metadata": {},
   "outputs": [],
   "source": [
    "with du.connect_duckdb() as con:\n",
    "    tables = con.execute(\"SHOW TABLES\").fetchall()\n",
    "    print(\"Tables in DuckDB:\", tables)"
   ]
  },
  {
   "cell_type": "code",
   "execution_count": null,
   "id": "aa1b87a7",
   "metadata": {},
   "outputs": [],
   "source": [
    "with du.connect_duckdb() as con:\n",
    "    con.register('site_tmp', pd.read_csv('../artifacts/site.csv'))\n",
    "    con.register('source_tmp', pd.read_csv('../artifacts/source.csv'))\n",
    "    con.register('parameter_tmp', pd.read_csv('../artifacts/parameter.csv', dtype={'parameter_cd': 'string'}))  # Ensure parameter_cd is read as string\n",
    "    con.register('site_parameter_tmp', pd.read_csv('../artifacts/site_parameter.csv'))\n",
    "    con.register('usbr_site_parameter_tmp', pd.read_csv('../artifacts/usbr_site_parameter.csv'))\n",
    "\n",
    "    con.execute(\"INSERT INTO source SELECT * FROM source_tmp;\")\n",
    "    con.execute(\"INSERT INTO site SELECT * FROM site_tmp;\")\n",
    "    con.execute(\"INSERT INTO parameter SELECT * FROM parameter_tmp;\")\n",
    "    con.execute(\"INSERT INTO site_parameter SELECT * FROM site_parameter_tmp;\")\n",
    "    con.execute(\"INSERT INTO usbr_site_parameter SELECT * FROM usbr_site_parameter_tmp;\")"
   ]
  },
  {
   "cell_type": "code",
   "execution_count": null,
   "id": "09a82468",
   "metadata": {},
   "outputs": [],
   "source": [
    "with du.connect_duckdb() as con:\n",
    "    result = con.execute(\"SELECT * FROM parameter ORDER BY parameter_id;\").df()"
   ]
  },
  {
   "cell_type": "code",
   "execution_count": null,
   "id": "20a59a02",
   "metadata": {},
   "outputs": [],
   "source": [
    "print(source_tmp.columns)"
   ]
  },
  {
   "cell_type": "code",
   "execution_count": null,
   "id": "914c22d7",
   "metadata": {},
   "outputs": [],
   "source": [
    "with du.connect_duckdb() as con:\n",
    "    con.register('source_tmp', source_tmp)\n",
    "    con.register('site_tmp', site_tmp)\n",
    "    con.register('parameter_tmp', parameter_tmp)\n",
    "    con.register('site_parameter_tmp', site_parameter_tmp)\n",
    "    con.register('usbr_site_parameter_tmp', usbr_site_parameter_tmp)\n",
    "    # con.execute(\"\"\"\n",
    "    #             INSERT INTO source (source_id, agency_cd, agency_nm, source_cd, source_nm, source_url, source_dsc)\n",
    "    #             SELECT * FROM source_tmp\n",
    "    #             \"\"\")\n",
    "    # con.execute(\"\"\"\n",
    "    #             INSERT INTO site (site_id, site_cd, site_nm, site_dsc, lat_dd, lon_dd, elev_m, site_type, hydro_area_cd, hydro_area_nm, source_id)\n",
    "    #             SELECT site_id, site_cd, site_nm, site_dsc, lat_dd, lon_dd, elev_m, site_type, hydro_area_cd, hydro_area_nm, source_id \n",
    "    #             FROM site_tmp\n",
    "    #            \"\"\")\n",
    "    # con.execute(\"\"\"\n",
    "    #             INSERT INTO parameter (parameter_id, parameter_cd, parameter_nm, parameter_dsc, unit_cd, unit_nm)\n",
    "    #             SELECT parameter_id, parameter_cd, parameter_nm, parameter_dsc, unit_cd, unit_nm \n",
    "    #             FROM parameter_tmp\n",
    "    #            \"\"\")\n",
    "    # con.execute(\"\"\"\n",
    "    #             INSERT INTO site_parameter (site_parameter_id, site_id, parameter_id, api_ingest_ind, api_ingest_notes)\n",
    "    #            SELECT site_parameter_id, site_id, parameter_id, api_ingest_ind, api_ingest_notes \n",
    "    #             FROM site_parameter_tmp\n",
    "    #            \"\"\")\n",
    "    # con.execute(\"\"\"\n",
    "    #             INSERT INTO usbr_site_parameter (source_id, agency_cd, agency_nm, source_cd, source_nm, source_url, source_dsc)\n",
    "    #             SELECT * FROM source_tmp\n",
    "    #             \"\"\")\n",
    "    "
   ]
  },
  {
   "cell_type": "code",
   "execution_count": null,
   "id": "e232addf",
   "metadata": {},
   "outputs": [],
   "source": [
    "with du.connect_duckdb() as con:\n",
    "    result = con.execute(\"SELECT * FROM site_parameter;\").df()\n",
    "    print(result.head())"
   ]
  },
  {
   "cell_type": "code",
   "execution_count": null,
   "id": "2c3d618e",
   "metadata": {},
   "outputs": [],
   "source": [
    "query = \"\"\"\n",
    "WITH hdb_site_parameter AS (\n",
    "    SELECT sp.site_parameter_id\n",
    "    FROM site_parameter sp\n",
    "    INNER JOIN site s ON sp.site_id = s.site_id\n",
    "    INNER JOIN source so ON s.source_id = so.source_id\n",
    "    WHERE so.source_cd = 'HDB'\n",
    ")\n",
    "SELECT sp.site_parameter_id, s.site_cd, p.parameter_cd\n",
    "FROM site_parameter sp\n",
    "INNER JOIN site s ON sp.site_id = s.site_id\n",
    "INNER JOIN parameter p on sp.parameter_id = p.parameter_id\n",
    "WHERE sp.site_parameter_id NOT IN (SELECT site_parameter_id FROM hdb_site_parameter);\n",
    "\"\"\"\n",
    "\n",
    "with du.connect_duckdb() as con:\n",
    "    site_param = con.execute(query).df().sort_values(by=['site_cd', 'parameter_cd']).reset_index(drop=True)"
   ]
  },
  {
   "cell_type": "code",
   "execution_count": null,
   "id": "9aa0466a",
   "metadata": {},
   "outputs": [],
   "source": [
    "with du.connect_duckdb() as con:\n",
    "    result = con.execute(\"\"\"\n",
    "                         SELECT agency_cd, site_cd, p.parameter_cd,site_nm, hydro_area_nm, sp.parameter_id\n",
    "                         FROM site AS s\n",
    "                         FULL OUTER JOIN source AS so \n",
    "                            ON s.source_id = so.source_id \n",
    "                         FULL OUTER JOIN site_parameter AS sp\n",
    "                            ON s.site_id = sp.site_id\n",
    "                         FULL OUTER JOIN parameter AS p\n",
    "                            ON sp.parameter_id = p.parameter_id\n",
    "                         WHERE so.agency_cd = 'USBR';\"\"\").df()\n",
    "    max_sp_id = con.execute(\"SELECT MAX(site_parameter_id) FROM site_parameter;\").fetchone()[0]\n",
    "    print(result.head())"
   ]
  },
  {
   "cell_type": "code",
   "execution_count": null,
   "id": "766e088e",
   "metadata": {},
   "outputs": [],
   "source": [
    "with du.connect_duckdb() as con:\n",
    "    join_sites = con.execute(\"SELECT site_id, site_cd FROM site;\").df()\n",
    "    join_params = con.execute(\"SELECT parameter_id, parameter_cd FROM parameter;\").df()"
   ]
  },
  {
   "cell_type": "code",
   "execution_count": null,
   "id": "4c6c050d",
   "metadata": {},
   "outputs": [],
   "source": [
    "df = pd.read_csv(\"https://www.usbr.gov/uc/water/hydrodata/reservoir_data/meta.csv\").drop_duplicates().reset_index(drop=True)\n",
    "\n",
    "missing_site_codes = [100010, 100089, 100032, 100049, 100053]\n",
    "\n",
    "df_filtered = df[df['site_id'].isin(missing_site_codes)]\n",
    "\n",
    "rename_map = {\n",
    "    'site_id': 'site_cd', 'site_datatype_id': 'usbr_site_parameter_cd', 'datatype_id': 'parameter_cd',\n",
    "    'site_metadata.site_name': 'site_nm', 'datatype_metadata.datatype_common_name': 'parameter_nm'\n",
    "}\n",
    "\n",
    "df_filtered = df_filtered.rename(columns=rename_map)[list(rename_map.values())]\n",
    "df_filtered['site_cd'] = df_filtered['site_cd'].astype(str)\n",
    "df_filtered['parameter_cd'] = df_filtered['parameter_cd'].astype(str)\n",
    "missing_site_parameters = df_filtered.merge(join_sites, on='site_cd', how='left').merge(join_params, on='parameter_cd', how='left')\n",
    "missing_site_parameters['site_parameter_id'] = range(max_sp_id + 1, max_sp_id + 1 + len(missing_site_parameters))\n",
    "missing_site_parameters['api_ingest_ind'] = True\n",
    "\n",
    "\n"
   ]
  },
  {
   "cell_type": "code",
   "execution_count": null,
   "id": "91fde048",
   "metadata": {},
   "outputs": [],
   "source": [
    "with du.connect_duckdb() as con:\n",
    "    con.register('missing_site_parameters', missing_site_parameters)\n",
    "    con.execute(\"\"\"\n",
    "                INSERT INTO site_parameter (site_parameter_id, site_id, parameter_id, api_ingest_ind)\n",
    "                SELECT site_parameter_id, site_id, parameter_id, api_ingest_ind\n",
    "                FROM missing_site_parameters\n",
    "                \"\"\")"
   ]
  },
  {
   "cell_type": "code",
   "execution_count": null,
   "id": "aa194f7e",
   "metadata": {},
   "outputs": [],
   "source": [
    "with du.connect_duckdb() as con:\n",
    "    join_site_param = con.execute(\"\"\"\n",
    "        SELECT sp.site_parameter_id, s.site_cd, p.parameter_cd\n",
    "        FROM site_parameter sp\n",
    "        INNER JOIN site s ON sp.site_id = s.site_id\n",
    "        INNER JOIN parameter p on sp.parameter_id = p.parameter_id\n",
    "        \"\"\").df()\n",
    "    \n"
   ]
  },
  {
   "cell_type": "code",
   "execution_count": null,
   "id": "22cd34e0",
   "metadata": {},
   "outputs": [],
   "source": [
    "df_rename = df.rename(columns=rename_map)[list(rename_map.values())]\n",
    "df_rename['site_cd'] = df_rename['site_cd'].astype(str)\n",
    "df_rename['parameter_cd'] = df_rename['parameter_cd'].astype(str)\n",
    "usbr_site_param = join_site_param.merge(df_rename, on=['site_cd', 'parameter_cd'], how='inner')\n",
    "usbr_site_param['usbr_site_parameter_id'] = range(1, 1 + len(usbr_site_param))\n",
    "usbr_site_param['usbr_site_parameter_cd'] = usbr_site_param['usbr_site_parameter_cd'].astype(str)\n",
    "usbr_site_param = usbr_site_param[['usbr_site_parameter_id', 'site_parameter_id', 'usbr_site_parameter_cd']]\n",
    "#usbr_site_param = usbr_site_param[[]]"
   ]
  },
  {
   "cell_type": "code",
   "execution_count": null,
   "id": "33641849",
   "metadata": {},
   "outputs": [],
   "source": [
    "with du.connect_duckdb() as con:\n",
    "    con.register('usbr_site_param', usbr_site_param)\n",
    "    con.execute(\"\"\"\n",
    "                INSERT INTO usbr_site_parameter (usbr_site_parameter_id, site_parameter_id, usbr_site_parameter_cd)\n",
    "                SELECT usbr_site_parameter_id, site_parameter_id, usbr_site_parameter_cd\n",
    "                FROM usbr_site_param\n",
    "                \"\"\")"
   ]
  },
  {
   "cell_type": "code",
   "execution_count": null,
   "id": "692acbcc",
   "metadata": {},
   "outputs": [],
   "source": [
    "with du.connect_duckdb() as con:\n",
    "    con.execute(\"COPY site TO '../artifacts/site.csv' WITH (HEADER TRUE);\")\n",
    "    con.execute(\"COPY source TO '../artifacts/source.csv' WITH (HEADER TRUE);\")\n",
    "    con.execute(\"COPY parameter TO '../artifacts/parameter.csv' WITH (HEADER TRUE);\")\n",
    "    con.execute(\"COPY site_parameter TO '../artifacts/site_parameter.csv' WITH (HEADER TRUE);\")\n",
    "    con.execute(\"COPY usbr_site_parameter TO '../artifacts/usbr_site_parameter.csv' WITH (HEADER TRUE);\")"
   ]
  },
  {
   "cell_type": "code",
   "execution_count": null,
   "id": "3bf2cf99",
   "metadata": {},
   "outputs": [],
   "source": []
  }
 ],
 "metadata": {
  "kernelspec": {
   "display_name": "ucpo_waterdata",
   "language": "python",
   "name": "python3"
  },
  "language_info": {
   "codemirror_mode": {
    "name": "ipython",
    "version": 3
   },
   "file_extension": ".py",
   "mimetype": "text/x-python",
   "name": "python",
   "nbconvert_exporter": "python",
   "pygments_lexer": "ipython3",
   "version": "3.12.9"
  }
 },
 "nbformat": 4,
 "nbformat_minor": 5
}
