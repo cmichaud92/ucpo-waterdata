{
 "cells": [
  {
   "cell_type": "code",
   "execution_count": null,
   "id": "8a15897f",
   "metadata": {},
   "outputs": [],
   "source": [
    "import pandas as pd\n",
    "import re\n",
    "import requests\n",
    "from typing import Optional\n",
    "import sys\n",
    "sys.path.append('../src')\n",
    "from utils.duckdb_utils import connect_duckdb\n",
    "\n"
   ]
  },
  {
   "cell_type": "code",
   "execution_count": null,
   "id": "5fde0100",
   "metadata": {},
   "outputs": [],
   "source": [
    "with connect_duckdb() as con:\n",
    "    result = con.execute(\"SELECT site_cd, site_nm FROM site WHERE agency_cd = 'BOR'\").fetchall()\n",
    "    sites = [row[0] for row in result]\n",
    "    site_names = [row[1] for row in result]\n",
    "\n",
    "parameters = [17, 29, 42, 49]\n",
    "base_url = \"https://usbr.gov/uc/water/hydrodata/reservoir_data/\"\n",
    "print(sites)\n",
    "print(site_names)\n"
   ]
  },
  {
   "cell_type": "code",
   "execution_count": null,
   "id": "60241878",
   "metadata": {},
   "outputs": [],
   "source": [
    "sites = sites[0:1]"
   ]
  },
  {
   "cell_type": "code",
   "execution_count": null,
   "id": "e4ff2e8a",
   "metadata": {},
   "outputs": [],
   "source": [
    "for site in sites:\n",
    "    all_data = []\n",
    "    for pcode in parameters:\n",
    "        url = f\"{base_url}{site}/csv/{pcode}.csv\"\n",
    "        try:\n",
    "            response = requests.get(url)\n",
    "            if response.status_code == 200:\n",
    "                df = pd.read_csv(url, header=0, names=['date', 'value'], parse_dates=['date'])\n",
    "                df['site_cd'] = site\n",
    "                df['parameter_cd'] = str(pcode)\n",
    "                if df.empty:\n",
    "                    print(f\"No data found for site {site} with parameter {pcode}.\")\n",
    "                    continue\n",
    "            else:\n",
    "                print(f\"Failed to fetch data for site {site} with parameter {pcode}: HTTP {response.status_code}\")\n",
    "                continue\n",
    "        except requests.exceptions.RequestException as e:\n",
    "            print(f\"Error fetching data for site {site} with parameter {pcode}: {e}\")\n",
    "            continue\n",
    "        if not df.empty:\n",
    "            all_data.append(df)\n",
    "    if all_data:\n",
    "        df_combined = pd.concat(all_data, ignore_index=True)\n",
    "\n",
    "# https://usbr.gov/uc/water/hydrodata/reservoir_data/100010/csv/17.csv\n",
    "# https://usbr.gov/uc/water/hydrodata/reservoir_data/100010/csv/49.csv\n",
    "# https://usbr.gov/uc/water/hydrodata/reservoir_data/100089\n",
    "# https://usbr.gov/uc/water/hydrodata/reservoir_data/917/csv/17.csv"
   ]
  },
  {
   "cell_type": "code",
   "execution_count": null,
   "id": "9ca0e132",
   "metadata": {},
   "outputs": [],
   "source": [
    "rename_map = {\n",
    "    'site_id': 'site_cd', 'datatype_id': 'parameter_cd', 'site_metadata.site_name': 'site_nm', \n",
    "    'datatype_metadata.datatype_common_name': 'parameter_nm', \n",
    "    'datatype_metadata.physical_quantity_name': 'alt_parameter_nm', \n",
    "    'datatype_metadata.unit_name': 'units', 'site_metadata.lat': 'latitude_dd',\n",
    "    'site_metadata.longi': 'longitude_dd', 'site_metadata.elevation': 'elevation_m',\n",
    "\n",
    "}"
   ]
  },
  {
   "cell_type": "code",
   "execution_count": null,
   "id": "aa992bab",
   "metadata": {},
   "outputs": [],
   "source": [
    "names = [\n",
    "    \"Gramby\", \"Green Mountain\", \"Ruedi\", \"Williams Fork\", \"Willow Creek\", \n",
    "    \"Windy Gap\", \"Wolford\", \"Flaming Gorge\", \"Granby\", \"Green Mountain\", \n",
    "    \"Ruedi\", \"Williams Fork\", \"Willow Creek\", \"Windy Gap\", \"Wolford Mountain\", \n",
    "    \"Flaming Gorge\", \"Starvation\", \"Catamount\", \"Stagecoach\",\n",
    "    \"Blue Mesa\", \"Crystal\", \"Morrow Point\", \"Ridgeway\",\n",
    "    \"Powell\" \n",
    "    ]\n",
    "\n",
    "parameters = [17, 29, 42, 49] \n",
    "pattern = \"|\".join(re.escape(name) for name in names)\n",
    "\n",
    "print(\"Pattern:\", pattern)"
   ]
  },
  {
   "cell_type": "code",
   "execution_count": null,
   "id": "589c5f5c",
   "metadata": {},
   "outputs": [],
   "source": [
    "df = pd.read_csv(\"https://www.usbr.gov/uc/water/hydrodata/reservoir_data/meta.csv\")\n",
    "\n",
    "matches = df[(df[\"site_metadata.site_name\"].str.contains(pattern, case = False, na=False)) &\n",
    "             (df[\"site_metadata.db_site_code\"] == \"UC\") &\n",
    "             (df[\"datatype_id\"].isin(parameters))].sort_values(\"site_metadata.site_name\")\n",
    "\n",
    "selected = matches[list(rename_map)].rename(columns=rename_map).reset_index(drop=True)\n",
    "sites = selected.drop_duplicates(subset=['site_cd']).reset_index(drop=True)\n",
    "\n",
    "print(df.columns)\n"
   ]
  },
  {
   "cell_type": "code",
   "execution_count": null,
   "id": "3c7d454e",
   "metadata": {},
   "outputs": [],
   "source": []
  },
  {
   "cell_type": "code",
   "execution_count": null,
   "id": "3e162aa1",
   "metadata": {},
   "outputs": [],
   "source": [
    "\n",
    "# Do not think RISE API is currently available, so this function is a placeholder.\n",
    "def fetch_rise_timeseries(\n",
    "        site_cd: str,\n",
    "        parameter_cd: str,\n",
    "        start_date: str,\n",
    "        end_date: str,\n",
    "        observed_modeled: str = \"observed\",\n",
    "        base_url: str = \"https://data.usbr.gov/rise/api/timeseries\",\n",
    "        format: str = \"json\"\n",
    "    ) -> Optional[pd.DataFrame]:\n",
    "    \"\"\"Fetches time series data from the RISE API for a given site and parameter.\"\"\"\n",
    "    \n",
    "    params = {\n",
    "        \"locationId\": site_cd,\n",
    "        \"parameterId\": parameter_cd,\n",
    "        \"startDate\": start_date,\n",
    "        \"endDate\": end_date,\n",
    "        \"observedModeled\": observed_modeled,\n",
    "        \"format\": format\n",
    "    }\n",
    "\n",
    "    headers = {\n",
    "        \"Accept\": \"application/vnd.api+json\"\n",
    "    }\n",
    "    try:\n",
    "        response = requests.get(base_url, params=params, headers=headers)\n",
    "        response.raise_for_status()  # Raise an error for bad responses\n",
    "\n",
    "        if format == \"json\":\n",
    "            json_data = response.json()\n",
    "            records = json_data.get(\"timeSeries\", [])\n",
    "            if not records:\n",
    "                print(f\"No data found for site {site_cd} and parameter {parameter_cd}.\")\n",
    "                return None\n",
    "            \n",
    "            df = pd.DataFrame(records)\n",
    "            return df\n",
    "        \n",
    "        elif format == \"csv\":\n",
    "            from io import StringIO\n",
    "            return pd.read_csv(StringIO(response.text))\n",
    "        \n",
    "        else:\n",
    "            raise ValueError(\"Unsupported format. Use 'json' or 'csv'.\")\n",
    "        \n",
    "    except requests.RequestException as e:\n",
    "        print(f\"Error fetching data for site {site_cd} and parameter {parameter_cd}: {e}\")\n",
    "        return None"
   ]
  },
  {
   "cell_type": "code",
   "execution_count": null,
   "id": "b42c7f70",
   "metadata": {},
   "outputs": [],
   "source": [
    "df = fetch_rise_timeseries(\n",
    "    site_cd='2002',     # Example: Ruedi Reservoir\n",
    "    parameter_cd='29',      # Example: Storage\n",
    "    start_date=\"2024-10-01\",\n",
    "    end_date=\"2024-12-31\"\n",
    ")\n",
    "\n",
    "if df is not None:\n",
    "    print(df.head())"
   ]
  },
  {
   "cell_type": "code",
   "execution_count": null,
   "id": "e8256e16",
   "metadata": {},
   "outputs": [],
   "source": [
    "https://www.cbrfc.noaa.gov/wsup/graph/espgraph_hc.html?year=2025&id=CAMC2#\n",
    "https://www.cbrfc.noaa.gov/wsup/graph/espgraph_hc.html?year=2025&id=CAMC2#"
   ]
  }
 ],
 "metadata": {
  "kernelspec": {
   "display_name": ".venv",
   "language": "python",
   "name": "python3"
  },
  "language_info": {
   "codemirror_mode": {
    "name": "ipython",
    "version": 3
   },
   "file_extension": ".py",
   "mimetype": "text/x-python",
   "name": "python",
   "nbconvert_exporter": "python",
   "pygments_lexer": "ipython3",
   "version": "3.12.9"
  }
 },
 "nbformat": 4,
 "nbformat_minor": 5
}
