{
 "cells": [
  {
   "cell_type": "code",
   "execution_count": 1,
   "id": "8a15897f",
   "metadata": {},
   "outputs": [],
   "source": [
    "import pandas as pd\n",
    "import re\n"
   ]
  },
  {
   "cell_type": "code",
   "execution_count": 2,
   "id": "9ca0e132",
   "metadata": {},
   "outputs": [],
   "source": [
    "rename_map = {\n",
    "    'site_id': 'site_cd', 'datatype_id': 'parameter_cd', 'site_metadata.site_name': 'site_nm', \n",
    "    'datatype_metadata.datatype_common_name': 'parameter_nm', \n",
    "    'datatype_metadata.physical_quantity_name': 'alt_parameter_nm', \n",
    "    'datatype_metadata.unit_name': 'units', 'site_metadata.lat': 'latitude_dd',\n",
    "    'site_metadata.longi': 'longitude_dd', 'site_metadata.elevation': 'elevation_m',\n",
    "\n",
    "}"
   ]
  },
  {
   "cell_type": "code",
   "execution_count": 10,
   "id": "aa992bab",
   "metadata": {},
   "outputs": [
    {
     "name": "stdout",
     "output_type": "stream",
     "text": [
      "Pattern: Gramby|Green\\ Mountain|Ruedi|Williams\\ Fork|Willow\\ Creek|Windy\\ Gap|Wolford|Flaming\\ Gorge|Granby|Green\\ Mountain|Ruedi|Williams\\ Fork|Willow\\ Creek|Windy\\ Gap|Wolford\\ Mountain|Flaming\\ Gorge|Starvation|Catamount|Stagecoach|Blue\\ Mesa|Crystal|Morrow\\ Point|Ridgeway|Powell\n"
     ]
    }
   ],
   "source": [
    "names = [\n",
    "    \"Gramby\", \"Green Mountain\", \"Ruedi\", \"Williams Fork\", \"Willow Creek\", \n",
    "    \"Windy Gap\", \"Wolford\", \"Flaming Gorge\", \"Granby\", \"Green Mountain\", \n",
    "    \"Ruedi\", \"Williams Fork\", \"Willow Creek\", \"Windy Gap\", \"Wolford Mountain\", \n",
    "    \"Flaming Gorge\", \"Starvation\", \"Catamount\", \"Stagecoach\",\n",
    "    \"Blue Mesa\", \"Crystal\", \"Morrow Point\", \"Ridgeway\",\n",
    "    \"Powell\" \n",
    "    ]\n",
    "\n",
    "parameters = [17, 29, 42, 49] \n",
    "pattern = \"|\".join(re.escape(name) for name in names)\n",
    "\n",
    "print(\"Pattern:\", pattern)"
   ]
  },
  {
   "cell_type": "code",
   "execution_count": 11,
   "id": "589c5f5c",
   "metadata": {},
   "outputs": [
    {
     "name": "stdout",
     "output_type": "stream",
     "text": [
      "    site_cd                   site_nm\n",
      "0       913       BLUE MESA RESERVOIR\n",
      "4       915         CRYSTAL RESERVOIR\n",
      "8       917   FLAMING GORGE RESERVOIR\n",
      "12     1999          GRANBY RESERVOIR\n",
      "16     2000  GREEN MOUNTAIN RESERVOIR\n",
      "20      919               LAKE POWELL\n",
      "24      914    MORROW POINT RESERVOIR\n",
      "28     2002           RUEDI RESERVOIR\n",
      "32      928      STARVATION RESERVOIR\n",
      "36     2005   WILLIAMS FORK RESERVOIR\n"
     ]
    }
   ],
   "source": [
    "df = pd.read_csv(\"https://www.usbr.gov/uc/water/hydrodata/reservoir_data/meta.csv\")\n",
    "\n",
    "matches = df[(df[\"site_metadata.site_name\"].str.contains(pattern, case = False, na=False)) &\n",
    "             (df[\"site_metadata.db_site_code\"] == \"UC\") &\n",
    "             (df[\"datatype_id\"].isin(parameters))].sort_values(\"site_metadata.site_name\")\n",
    "\n",
    "selected = matches[list(rename_map)].rename(columns=rename_map).reset_index(drop=True)\n",
    "print(selected[['site_cd', 'site_nm']].drop_duplicates())\n"
   ]
  },
  {
   "cell_type": "code",
   "execution_count": null,
   "id": "e8256e16",
   "metadata": {},
   "outputs": [],
   "source": [
    "https://www.cbrfc.noaa.gov/wsup/graph/espgraph_hc.html?year=2025&id=CAMC2#"
   ]
  }
 ],
 "metadata": {
  "kernelspec": {
   "display_name": ".venv",
   "language": "python",
   "name": "python3"
  },
  "language_info": {
   "codemirror_mode": {
    "name": "ipython",
    "version": 3
   },
   "file_extension": ".py",
   "mimetype": "text/x-python",
   "name": "python",
   "nbconvert_exporter": "python",
   "pygments_lexer": "ipython3",
   "version": "3.12.9"
  }
 },
 "nbformat": 4,
 "nbformat_minor": 5
}
