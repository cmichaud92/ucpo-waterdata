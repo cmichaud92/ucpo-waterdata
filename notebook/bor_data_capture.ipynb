{
 "cells": [
  {
   "cell_type": "code",
   "execution_count": 9,
   "id": "8a15897f",
   "metadata": {},
   "outputs": [],
   "source": [
    "import pandas as pd\n",
    "import re\n",
    "import requests\n",
    "from typing import Optional\n"
   ]
  },
  {
   "cell_type": "code",
   "execution_count": 2,
   "id": "9ca0e132",
   "metadata": {},
   "outputs": [],
   "source": [
    "rename_map = {\n",
    "    'site_id': 'site_cd', 'datatype_id': 'parameter_cd', 'site_metadata.site_name': 'site_nm', \n",
    "    'datatype_metadata.datatype_common_name': 'parameter_nm', \n",
    "    'datatype_metadata.physical_quantity_name': 'alt_parameter_nm', \n",
    "    'datatype_metadata.unit_name': 'units', 'site_metadata.lat': 'latitude_dd',\n",
    "    'site_metadata.longi': 'longitude_dd', 'site_metadata.elevation': 'elevation_m',\n",
    "\n",
    "}"
   ]
  },
  {
   "cell_type": "code",
   "execution_count": 3,
   "id": "aa992bab",
   "metadata": {},
   "outputs": [
    {
     "name": "stdout",
     "output_type": "stream",
     "text": [
      "Pattern: Gramby|Green\\ Mountain|Ruedi|Williams\\ Fork|Willow\\ Creek|Windy\\ Gap|Wolford|Flaming\\ Gorge|Granby|Green\\ Mountain|Ruedi|Williams\\ Fork|Willow\\ Creek|Windy\\ Gap|Wolford\\ Mountain|Flaming\\ Gorge|Starvation|Catamount|Stagecoach|Blue\\ Mesa|Crystal|Morrow\\ Point|Ridgeway|Powell\n"
     ]
    }
   ],
   "source": [
    "names = [\n",
    "    \"Gramby\", \"Green Mountain\", \"Ruedi\", \"Williams Fork\", \"Willow Creek\", \n",
    "    \"Windy Gap\", \"Wolford\", \"Flaming Gorge\", \"Granby\", \"Green Mountain\", \n",
    "    \"Ruedi\", \"Williams Fork\", \"Willow Creek\", \"Windy Gap\", \"Wolford Mountain\", \n",
    "    \"Flaming Gorge\", \"Starvation\", \"Catamount\", \"Stagecoach\",\n",
    "    \"Blue Mesa\", \"Crystal\", \"Morrow Point\", \"Ridgeway\",\n",
    "    \"Powell\" \n",
    "    ]\n",
    "\n",
    "parameters = [17, 29, 42, 49] \n",
    "pattern = \"|\".join(re.escape(name) for name in names)\n",
    "\n",
    "print(\"Pattern:\", pattern)"
   ]
  },
  {
   "cell_type": "code",
   "execution_count": 8,
   "id": "589c5f5c",
   "metadata": {},
   "outputs": [
    {
     "name": "stdout",
     "output_type": "stream",
     "text": [
      "Index(['site_datatype_id', 'site_id', 'datatype_id', 'site_metadata.site_id',\n",
      "       'site_metadata.site_name', 'site_metadata.site_common_name',\n",
      "       'site_metadata.description', 'site_metadata.elevation',\n",
      "       'site_metadata.lat', 'site_metadata.longi',\n",
      "       'site_metadata.db_site_code', 'site_metadata.objecttype_id',\n",
      "       'site_metadata.objecttype_name', 'site_metadata.basin_id',\n",
      "       'site_metadata.hydrologic_unit', 'site_metadata.river_mile',\n",
      "       'site_metadata.segment_no', 'site_metadata.state_id',\n",
      "       'site_metadata.state_code', 'site_metadata.usgs_id',\n",
      "       'site_metadata.nws_code', 'site_metadata.shef_code',\n",
      "       'site_metadata.scs_id', 'site_metadata.parent_objecttype_id',\n",
      "       'site_metadata.parent_site_id', 'datatype_metadata.datatype_id',\n",
      "       'datatype_metadata.datatype_name',\n",
      "       'datatype_metadata.datatype_common_name',\n",
      "       'datatype_metadata.physical_quantity_name', 'datatype_metadata.unit_id',\n",
      "       'datatype_metadata.unit_name', 'datatype_metadata.unit_common_name',\n",
      "       'datatype_metadata.allowable_intervals', 'datatype_metadata.agen_id',\n",
      "       'datatype_metadata.cmmnt', 'last_meas_date', 'last_meas_val'],\n",
      "      dtype='object')\n"
     ]
    }
   ],
   "source": [
    "df = pd.read_csv(\"https://www.usbr.gov/uc/water/hydrodata/reservoir_data/meta.csv\")\n",
    "\n",
    "matches = df[(df[\"site_metadata.site_name\"].str.contains(pattern, case = False, na=False)) &\n",
    "             (df[\"site_metadata.db_site_code\"] == \"UC\") &\n",
    "             (df[\"datatype_id\"].isin(parameters))].sort_values(\"site_metadata.site_name\")\n",
    "\n",
    "selected = matches[list(rename_map)].rename(columns=rename_map).reset_index(drop=True)\n",
    "sites = selected.drop_duplicates(subset=['site_cd']).reset_index(drop=True)\n",
    "\n",
    "print(df.columns)\n"
   ]
  },
  {
   "cell_type": "code",
   "execution_count": 17,
   "id": "3e162aa1",
   "metadata": {},
   "outputs": [],
   "source": [
    "def fetch_rise_timeseries(\n",
    "        site_cd: str,\n",
    "        parameter_cd: str,\n",
    "        start_date: str,\n",
    "        end_date: str,\n",
    "        observed_modeled: str = \"observed\",\n",
    "        base_url: str = \"https://data.usbr.gov/rise/api/timeseries\",\n",
    "        format: str = \"json\"\n",
    "    ) -> Optional[pd.DataFrame]:\n",
    "    \"\"\"Fetches time series data from the RISE API for a given site and parameter.\"\"\"\n",
    "    \n",
    "    params = {\n",
    "        \"locationId\": site_cd,\n",
    "        \"parameterId\": parameter_cd,\n",
    "        \"startDate\": start_date,\n",
    "        \"endDate\": end_date,\n",
    "        \"observedModeled\": observed_modeled,\n",
    "        \"format\": format\n",
    "    }\n",
    "\n",
    "    headers = {\n",
    "        \"Accept\": \"application/vnd.api+json\"\n",
    "    }\n",
    "    try:\n",
    "        response = requests.get(base_url, params=params, headers=headers)\n",
    "        response.raise_for_status()  # Raise an error for bad responses\n",
    "\n",
    "        if format == \"json\":\n",
    "            json_data = response.json()\n",
    "            records = json_data.get(\"timeSeries\", [])\n",
    "            if not records:\n",
    "                print(f\"No data found for site {site_cd} and parameter {parameter_cd}.\")\n",
    "                return None\n",
    "            \n",
    "            df = pd.DataFrame(records)\n",
    "            return df\n",
    "        \n",
    "        elif format == \"csv\":\n",
    "            from io import StringIO\n",
    "            return pd.read_csv(StringIO(response.text))\n",
    "        \n",
    "        else:\n",
    "            raise ValueError(\"Unsupported format. Use 'json' or 'csv'.\")\n",
    "        \n",
    "    except requests.RequestException as e:\n",
    "        print(f\"Error fetching data for site {site_cd} and parameter {parameter_cd}: {e}\")\n",
    "        return None"
   ]
  },
  {
   "cell_type": "code",
   "execution_count": 19,
   "id": "b42c7f70",
   "metadata": {},
   "outputs": [
    {
     "name": "stdout",
     "output_type": "stream",
     "text": [
      "Error fetching data for site 2002 and parameter 29: 404 Client Error: Not Found for url: https://data.usbr.gov/rise/api/timeseries?locationId=2002&parameterId=29&startDate=2024-10-01&endDate=2024-12-31&observedModeled=observed&format=json\n"
     ]
    }
   ],
   "source": [
    "df = fetch_rise_timeseries(\n",
    "    site_cd='2002',     # Example: Ruedi Reservoir\n",
    "    parameter_cd='29',      # Example: Storage\n",
    "    start_date=\"2024-10-01\",\n",
    "    end_date=\"2024-12-31\"\n",
    ")\n",
    "\n",
    "if df is not None:\n",
    "    print(df.head())"
   ]
  },
  {
   "cell_type": "code",
   "execution_count": null,
   "id": "e8256e16",
   "metadata": {},
   "outputs": [],
   "source": [
    "https://www.cbrfc.noaa.gov/wsup/graph/espgraph_hc.html?year=2025&id=CAMC2#\n",
    "https://www.cbrfc.noaa.gov/wsup/graph/espgraph_hc.html?year=2025&id=CAMC2#"
   ]
  }
 ],
 "metadata": {
  "kernelspec": {
   "display_name": ".venv",
   "language": "python",
   "name": "python3"
  },
  "language_info": {
   "codemirror_mode": {
    "name": "ipython",
    "version": 3
   },
   "file_extension": ".py",
   "mimetype": "text/x-python",
   "name": "python",
   "nbconvert_exporter": "python",
   "pygments_lexer": "ipython3",
   "version": "3.12.9"
  }
 },
 "nbformat": 4,
 "nbformat_minor": 5
}
