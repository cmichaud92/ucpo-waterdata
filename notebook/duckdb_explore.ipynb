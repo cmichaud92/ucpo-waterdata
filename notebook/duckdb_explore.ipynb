{
 "cells": [
  {
   "cell_type": "code",
   "execution_count": 2,
   "id": "9c9a9a45",
   "metadata": {},
   "outputs": [],
   "source": [
    "import pandas as pd\n",
    "from pathlib import Path\n",
    "\n",
    "import sys\n",
    "sys.path.append('../src')\n",
    "from utils.duckdb_utils import connect_duckdb\n",
    "from utils.duckdb_utils import run_sql_file\n",
    "# import utils.site_list as sl"
   ]
  },
  {
   "cell_type": "code",
   "execution_count": 3,
   "id": "c4e43319",
   "metadata": {},
   "outputs": [
    {
     "name": "stdout",
     "output_type": "stream",
     "text": [
      "['daily_observations', 'parameter', 'site', 'site_parameter', 'vw_nwis_annual_stats_local', 'vw_nwis_daily_stats_local', 'vw_nwis_iv_local']\n"
     ]
    }
   ],
   "source": [
    "with connect_duckdb() as con:\n",
    "    tables = con.execute(\"SHOW TABLES\").fetchall()\n",
    "    table_names = [table[0]for table in tables]\n",
    "\n",
    "    print(table_names)"
   ]
  },
  {
   "cell_type": "code",
   "execution_count": 13,
   "id": "48c0f181",
   "metadata": {},
   "outputs": [
    {
     "name": "stdout",
     "output_type": "stream",
     "text": [
      "   parameter_id parameter_cd                 parameter_nm parameter_dsc  \\\n",
      "0             1        00060                    Discharge          None   \n",
      "1             2        00010            Water temperature          None   \n",
      "2             3        62614  Reservoir surface elevation          None   \n",
      "3             4           15                 Bank storage          None   \n",
      "4             5           29                       Inflow          None   \n",
      "\n",
      "  unit_cd                unit_nm                  create_ts  \\\n",
      "0     cfs  Cubic feet per second 2025-06-17 17:28:46.429526   \n",
      "1       C        Degrees Celsius 2025-06-17 17:28:46.429526   \n",
      "2      ft                   Feet 2025-06-17 17:28:46.429526   \n",
      "3      af              Acre-feet 2025-06-17 17:28:46.429526   \n",
      "4     cfs  Cubic feet per second 2025-06-17 17:28:46.429526   \n",
      "\n",
      "                   update_ts  \n",
      "0 2025-06-17 17:28:46.429880  \n",
      "1 2025-06-17 17:28:46.429880  \n",
      "2 2025-06-17 17:28:46.429880  \n",
      "3 2025-06-17 17:28:46.429880  \n",
      "4 2025-06-17 17:28:46.429880  \n"
     ]
    }
   ],
   "source": [
    "query = \"\"\"\n",
    "    SELECT hydro_area_nm, site_nm, year, max_value, max_date\n",
    "    FROM vw_nwis_annual_stats_local\n",
    "    WHERE parameter_cd = '00060'\n",
    "    order by year DESC, hydro_area_nm, site_nm\n",
    "    \"\"\"\n",
    "query = \"SELECT * FROM parameter\"\n",
    "\n",
    "with connect_duckdb() as con:\n",
    "    result = con.execute(query).df()\n",
    "    print(result.head())"
   ]
  },
  {
   "cell_type": "code",
   "execution_count": 32,
   "id": "94de3233",
   "metadata": {},
   "outputs": [],
   "source": [
    "nwis_params = pd.read_csv(\"../artifacts/USGS_parameter_codes.tsv\", sep=\"\\t\", dtype=str)\n",
    "nwis_params = nwis_params.loc[~nwis_params['parameter_cd'].isin(['00060', '00010'])].reset_index(drop=True)\n",
    "nwis_params['parameter_id'] = range(23, len(nwis_params) + 23)\n",
    "nwis_params['create_ts'] = pd.Timestamp.now()\n",
    "nwis_params['update_ts'] = pd.Timestamp.now()"
   ]
  },
  {
   "cell_type": "code",
   "execution_count": 33,
   "id": "3e32abd8",
   "metadata": {},
   "outputs": [],
   "source": [
    "column_list = result.columns.tolist()\n",
    "nwis_params = nwis_params[column_list].copy()"
   ]
  },
  {
   "cell_type": "code",
   "execution_count": 34,
   "id": "f691454c",
   "metadata": {},
   "outputs": [],
   "source": [
    "with connect_duckdb() as con:\n",
    "    con.register('nwis_params', nwis_params)\n",
    "    con.execute(\"INSERT INTO parameter SELECT * FROM nwis_params\")"
   ]
  },
  {
   "cell_type": "code",
   "execution_count": 4,
   "id": "91fb18f6",
   "metadata": {},
   "outputs": [],
   "source": [
    "query = \"SELECT * FROM site\"\n",
    "query = \"SELECT * FROM parameter\""
   ]
  },
  {
   "cell_type": "code",
   "execution_count": 22,
   "id": "02932577",
   "metadata": {},
   "outputs": [],
   "source": [
    "run_sql_file(Path('../db/views.sql'))"
   ]
  },
  {
   "cell_type": "code",
   "execution_count": 12,
   "id": "9dc42f22",
   "metadata": {},
   "outputs": [
    {
     "name": "stdout",
     "output_type": "stream",
     "text": [
      "   parameter_id parameter_cd                 parameter_nm parameter_dsc  \\\n",
      "0             1           60                    Discharge          None   \n",
      "1             2           10            Water temperature          None   \n",
      "2             3        62614  Reservoir surface elevation          None   \n",
      "3             4           15                 Bank storage          None   \n",
      "4             5           29                       Inflow          None   \n",
      "\n",
      "  unit_cd                unit_nm                  create_ts  \\\n",
      "0     cfs  Cubic feet per second 2025-06-17 17:28:46.429526   \n",
      "1       C        Degrees Celsius 2025-06-17 17:28:46.429526   \n",
      "2      ft                   Feet 2025-06-17 17:28:46.429526   \n",
      "3      af              Acre-feet 2025-06-17 17:28:46.429526   \n",
      "4     cfs  Cubic feet per second 2025-06-17 17:28:46.429526   \n",
      "\n",
      "                   update_ts  \n",
      "0 2025-06-17 17:28:46.429880  \n",
      "1 2025-06-17 17:28:46.429880  \n",
      "2 2025-06-17 17:28:46.429880  \n",
      "3 2025-06-17 17:28:46.429880  \n",
      "4 2025-06-17 17:28:46.429880  \n"
     ]
    }
   ],
   "source": [
    "with connect_duckdb() as con:\n",
    "    result = con.execute(query).df()\n",
    "print(result.head())"
   ]
  },
  {
   "cell_type": "code",
   "execution_count": 11,
   "id": "88199d3e",
   "metadata": {},
   "outputs": [],
   "source": [
    "param = pd.read_csv('../artifacts/parameters.csv')\n",
    "\n",
    "with connect_duckdb() as con:\n",
    "    con.register('param', param)\n",
    "    con.execute('INSERT INTO parameter SELECT * FROM param')"
   ]
  }
 ],
 "metadata": {
  "kernelspec": {
   "display_name": "ucpo_waterdata",
   "language": "python",
   "name": "python3"
  },
  "language_info": {
   "codemirror_mode": {
    "name": "ipython",
    "version": 3
   },
   "file_extension": ".py",
   "mimetype": "text/x-python",
   "name": "python",
   "nbconvert_exporter": "python",
   "pygments_lexer": "ipython3",
   "version": "3.12.9"
  }
 },
 "nbformat": 4,
 "nbformat_minor": 5
}
