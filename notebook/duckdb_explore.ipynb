{
 "cells": [
  {
   "cell_type": "code",
   "execution_count": null,
   "id": "9c9a9a45",
   "metadata": {},
   "outputs": [],
   "source": [
    "import pandas as pd\n",
    "from pathlib import Path\n",
    "\n",
    "import sys\n",
    "sys.path.append('../src')\n",
    "from utils.duckdb_utils import connect_duckdb\n",
    "from utils.duckdb_utils import run_sql_file\n",
    "# import utils.site_list as sl"
   ]
  },
  {
   "cell_type": "code",
   "execution_count": 4,
   "id": "c4e43319",
   "metadata": {},
   "outputs": [],
   "source": [
    "with connect_duckdb() as con:\n",
    "    tables = con.execute(\"SHOW TABLES\").fetchall()\n",
    "    table_names = [table[0]for table in tables]\n",
    "\n",
    "    print(table_names)\n",
    "\n",
    "with connect_duckdb() as con:\n",
    "    columns = con.execute(\"DESCRIBE site_parameter\").fetchall()\n",
    "    column_names = [col[0] for col in columns]\n",
    "\n",
    "    print(column_names)"
   ]
  },
  {
   "cell_type": "code",
   "execution_count": 7,
   "id": "c14bd789",
   "metadata": {},
   "outputs": [
    {
     "name": "stdout",
     "output_type": "stream",
     "text": [
      "Index(['site_id', 'site_cd', 'site_nm', 'site_dsc', 'agency_cd', 'agency_nm',\n",
      "       'lat_dd', 'lon_dd', 'elev_m', 'site_type', 'hydro_area_cd',\n",
      "       'hydro_area_nm', 'source', 'create_ts', 'update_ts'],\n",
      "      dtype='object')\n"
     ]
    }
   ],
   "source": [
    "with connect_duckdb() as con:\n",
    "    df = con.execute(\"SELECT * FROM site\").df()\n",
    "    print(df.columns)"
   ]
  },
  {
   "cell_type": "code",
   "execution_count": 23,
   "id": "4dcf5f12",
   "metadata": {},
   "outputs": [],
   "source": [
    "data = [\n",
    "    {\n",
    "        'site_id': 46,\n",
    "        'site_cd': '2003',\n",
    "        'site_nm': 'SHADOW MOUNTAIN RESERVOIR',\n",
    "        'site_dsc': None,\n",
    "        'agency_cd': 'BOR',\n",
    "        'agency_nm': 'US Bureau of Reclamation',\n",
    "        'lat_dd': 40.22698,\n",
    "        'lon_dd': -105.84385,\n",
    "        'elev_m': None,\n",
    "        'site_type': 'lake',\n",
    "        'hydro_area_cd': 'SMR',\n",
    "        'hydro_area_nm': 'Shadow Mountain Reservoir',\n",
    "        'source': 'https://www.usbr.gov/uc/water/hydrodata/reservoir_data/<site_cd>/csv/<parameter_cd>.csv'\n",
    "    },\n",
    "    {\n",
    "        'site_id': 47,\n",
    "        'site_cd': '100118',\n",
    "        'site_nm': 'WILLOW CREEK RESERVOIR',\n",
    "        'site_dsc': None,\n",
    "        'agency_cd': 'BOR',\n",
    "        'agency_nm': 'US Bureau of Reclamation',\n",
    "        'lat_dd': 40.146932,\n",
    "        'lon_dd': -105.942513,\n",
    "        'elev_m': None,\n",
    "        'site_type': 'lake',\n",
    "        'hydro_area_cd': 'WCR',\n",
    "        'hydro_area_nm': 'Willow Creek Reservoir',\n",
    "        'source': 'https://www.usbr.gov/uc/water/hydrodata/reservoir_data/<site_cd>/csv/<parameter_cd>.csv'\n",
    "    }\n",
    "]\n",
    "\n",
    "df = pd.DataFrame(data)\n",
    "df['created_ts'] = pd.Timestamp.now()\n",
    "df['updated_ts'] = pd.Timestamp.now()"
   ]
  },
  {
   "cell_type": "code",
   "execution_count": 25,
   "id": "4617f250",
   "metadata": {},
   "outputs": [],
   "source": [
    "with connect_duckdb() as con:\n",
    "    #con.register('site_tmp', df)\n",
    "    result = con.execute(\"SELECT * FROM site\").df()"
   ]
  },
  {
   "cell_type": "code",
   "execution_count": 15,
   "id": "92f6b61f",
   "metadata": {},
   "outputs": [],
   "source": [
    "data = [\n",
    "    {\n",
    "        'parameter_id': 30,\n",
    "        'parameter_cd': '63160',\n",
    "        'parameter_nm': 'Stream surface elevation',\n",
    "        'parameter_dsc': 'NAVD 1988',\n",
    "        'unit_cd': 'ft',\n",
    "        'unit_nm': 'Feet'\n",
    "    },\n",
    "    {\n",
    "        'parameter_id': 31,\n",
    "        'parameter_cd': '00054',\n",
    "        'parameter_nm': 'Reservoir storage',\n",
    "        'parameter_dsc': None,\n",
    "        'unit_cd': 'af',\n",
    "        'unit_nm': 'Acre-feet'\n",
    "    }\n",
    "]\n",
    "df = pd.DataFrame(data)\n",
    "df['created_ts'] = pd.Timestamp.now()\n",
    "df['updated_ts'] = pd.Timestamp.now()"
   ]
  },
  {
   "cell_type": "code",
   "execution_count": 16,
   "id": "aad15677",
   "metadata": {},
   "outputs": [],
   "source": [
    "with connect_duckdb() as con:\n",
    "    df = con.execute(\"SELECT * FROM parameter\").df()"
   ]
  },
  {
   "cell_type": "code",
   "execution_count": null,
   "id": "ba5c4e21",
   "metadata": {},
   "outputs": [],
   "source": [
    "path = '../artifacts/site_parameter.csv'\n",
    "\n",
    "df = pd.read_csv(path, usecols=['site_id', 'parameter_cd'],\n",
    "                 dtype={'site_id': 'int64', 'parameter_cd': 'str'})\n",
    "df = df[df['site_id'].notna() & df['parameter_cd'].notna()]\n",
    "\n",
    "query = (\n",
    "    \"SELECT sp.site_id, s.site_nm, p.parameter_id, p.parameter_nm, p.parameter_cd\"\n",
    "    \" FROM sp_tmp sp\"\n",
    "    \" LEFT JOIN parameter p\"\n",
    "    \" ON sp.parameter_cd = p.parameter_cd\"\n",
    "    \" LEFT JOIN site s\"\n",
    "    \" ON sp.site_id = s.site_id\"\n",
    "    \" WHERE sp.parameter_cd IS NOT NULL\"\n",
    "    \" ORDER BY sp.site_id, p.parameter_id\"\n",
    ")\n",
    "#query = \"select * from parameter\"\n",
    "with connect_duckdb() as con:\n",
    "    con.register('sp_tmp', df)\n",
    "    result = con.execute(query).df()\n",
    "    \n",
    "\"\"\"\n",
    "\n",
    "print(query)\n",
    "with connect_duckdb() as con:\n",
    "    df = con.execute(query).df()\n",
    "    print(df.head())\n",
    "\"\"\"\n"
   ]
  },
  {
   "cell_type": "code",
   "execution_count": 36,
   "id": "ed97791a",
   "metadata": {},
   "outputs": [],
   "source": [
    "result['created_ts'] = pd.Timestamp.now()\n",
    "result['updated_ts'] = pd.Timestamp.now()\n",
    "result['site_parameter_id'] = range(1, len(result) + 1)\n",
    "result = result[['site_parameter_id', 'site_id', 'parameter_id', 'created_ts', 'updated_ts']].copy()\n"
   ]
  },
  {
   "cell_type": "code",
   "execution_count": 37,
   "id": "2c6ea0f7",
   "metadata": {},
   "outputs": [
    {
     "name": "stdout",
     "output_type": "stream",
     "text": [
      "   site_parameter_id  site_id  parameter_id                  create_ts  \\\n",
      "0                  1        1             3 2025-06-23 17:58:27.213919   \n",
      "1                  2        1            31 2025-06-23 17:58:27.213919   \n",
      "2                  3        2             1 2025-06-23 17:58:27.213919   \n",
      "3                  4        2             2 2025-06-23 17:58:27.213919   \n",
      "4                  5        2            23 2025-06-23 17:58:27.213919   \n",
      "\n",
      "                   update_ts  \n",
      "0 2025-06-23 17:58:27.213919  \n",
      "1 2025-06-23 17:58:27.213919  \n",
      "2 2025-06-23 17:58:27.213919  \n",
      "3 2025-06-23 17:58:27.213919  \n",
      "4 2025-06-23 17:58:27.213919  \n"
     ]
    }
   ],
   "source": [
    "\n",
    "with connect_duckdb() as con:\n",
    "    con.register('site_parameter_tmp', result)\n",
    "    con.execute(\"INSERT INTO site_parameter SELECT * FROM site_parameter_tmp\")\n",
    "    print(con.execute(\"SELECT * FROM site_parameter\").df().head())"
   ]
  },
  {
   "cell_type": "code",
   "execution_count": null,
   "id": "ed97791a",
   "metadata": {},
   "outputs": [],
   "source": [
    "result['created_ts'] = pd.Timestamp.now()\n",
    "result['updated_ts'] = pd.Timestamp.now()\n",
    "result['site_parameter_id'] = range(1, len(result) + 1)\n",
    "result = result[['site_parameter_id', 'site_id', 'parameter_id', 'created_ts', 'updated_ts']].copy()\n"
   ]
  },
  {
   "cell_type": "code",
   "execution_count": null,
   "id": "2c6ea0f7",
   "metadata": {},
   "outputs": [],
   "source": [
    "\n",
    "with connect_duckdb() as con:\n",
    "    con.register('site_parameter_tmp', result)\n",
    "    con.execute(\"INSERT INTO site_parameter SELECT * FROM site_parameter_tmp\")\n",
    "    print(con.execute(\"SELECT * FROM site_parameter\").df().head())"
   ]
  },
  {
   "cell_type": "code",
   "execution_count": null,
   "id": "48c0f181",
   "metadata": {},
   "outputs": [],
   "source": [
    "query = \"\"\"\n",
    "    SELECT hydro_area_nm, site_nm, year, max_value, max_date\n",
    "    FROM vw_nwis_annual_stats_local\n",
    "    WHERE parameter_cd = '00060'\n",
    "    order by year DESC, hydro_area_nm, site_nm\n",
    "    \"\"\"\n",
    "query = \"SELECT * FROM parameter\"\n",
    "\n",
    "with connect_duckdb() as con:\n",
    "    result = con.execute(query).df()\n",
    "    print(result.head())"
   ]
  },
  {
   "cell_type": "code",
   "execution_count": null,
   "id": "94de3233",
   "metadata": {},
   "outputs": [],
   "source": [
    "nwis_params = pd.read_csv(\"../artifacts/USGS_parameter_codes.tsv\", sep=\"\\t\", dtype=str)\n",
    "nwis_params = nwis_params.loc[~nwis_params['parameter_cd'].isin(['00060', '00010'])].reset_index(drop=True)\n",
    "nwis_params['parameter_id'] = range(23, len(nwis_params) + 23)\n",
    "nwis_params['create_ts'] = pd.Timestamp.now()\n",
    "nwis_params['update_ts'] = pd.Timestamp.now()"
   ]
  },
  {
   "cell_type": "code",
   "execution_count": null,
   "id": "3e32abd8",
   "metadata": {},
   "outputs": [],
   "source": [
    "column_list = result.columns.tolist()\n",
    "nwis_params = nwis_params[column_list].copy()"
   ]
  },
  {
   "cell_type": "code",
   "execution_count": null,
   "id": "f691454c",
   "metadata": {},
   "outputs": [],
   "source": [
    "with connect_duckdb() as con:\n",
    "    con.register('nwis_params', nwis_params)\n",
    "    con.execute(\"INSERT INTO parameter SELECT * FROM nwis_params\")"
   ]
  },
  {
   "cell_type": "code",
   "execution_count": null,
   "id": "91fb18f6",
   "metadata": {},
   "outputs": [],
   "source": [
    "query = \"SELECT * FROM site\"\n",
    "query = \"SELECT * FROM parameter\""
   ]
  },
  {
   "cell_type": "code",
   "execution_count": null,
   "id": "02932577",
   "metadata": {},
   "outputs": [],
   "source": [
    "run_sql_file(Path('../db/views.sql'))"
   ]
  },
  {
   "cell_type": "code",
   "execution_count": null,
   "id": "9dc42f22",
   "metadata": {},
   "outputs": [],
   "source": [
    "with connect_duckdb() as con:\n",
    "    result = con.execute(query).df()\n",
    "print(result.head())"
   ]
  },
  {
   "cell_type": "code",
   "execution_count": null,
   "id": "88199d3e",
   "metadata": {},
   "outputs": [],
   "source": [
    "param = pd.read_csv('../artifacts/parameters.csv')\n",
    "\n",
    "with connect_duckdb() as con:\n",
    "    con.register('param', param)\n",
    "    con.execute('INSERT INTO parameter SELECT * FROM param')"
   ]
  }
 ],
 "metadata": {
  "kernelspec": {
   "display_name": ".venv",
   "language": "python",
   "name": "python3"
  },
  "language_info": {
   "codemirror_mode": {
    "name": "ipython",
    "version": 3
   },
   "file_extension": ".py",
   "mimetype": "text/x-python",
   "name": "python",
   "nbconvert_exporter": "python",
   "pygments_lexer": "ipython3",
   "version": "3.12.9"
  }
 },
 "nbformat": 4,
 "nbformat_minor": 5
}
