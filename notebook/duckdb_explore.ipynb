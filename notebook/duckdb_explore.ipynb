{
 "cells": [
  {
   "cell_type": "code",
   "execution_count": null,
   "id": "9c9a9a45",
   "metadata": {},
   "outputs": [],
   "source": [
    "import pandas as pd\n",
    "import datetime as dt\n",
    "import os\n",
    "import logging\n",
    "from pathlib import Path\n",
    "import sys\n",
    "sys.path.append('../src')\n",
    "from utils.fetch_data import fetch_nwis_data, fetch_site_parameters, fetch_approval_status\n",
    "from utils.transform_data import transform_nwis_iv_data\n",
    "from utils.write_to_datalake import write_to_datalake\n",
    "import utils.duckdb_utils as db\n",
    "from collections import namedtuple\n",
    "# import utils.site_list as sl"
   ]
  },
  {
   "cell_type": "code",
   "execution_count": null,
   "id": "d3e8a647",
   "metadata": {},
   "outputs": [],
   "source": [
    "# db.run_sql_file(Path('../db/views.sql'))\n"
   ]
  },
  {
   "cell_type": "code",
   "execution_count": null,
   "id": "86298aab",
   "metadata": {},
   "outputs": [],
   "source": [
    "with db.connect_duckdb() as con:\n",
    "    tables = con.execute(\"SHOW TABLES\").df()\n",
    "    print(tables)\n",
    "\n",
    "with db.connect_duckdb() as con:\n",
    "    result = con.execute(\"DESCRIBE vw_nwis_iv_local\").df()\n",
    "    print(result)"
   ]
  },
  {
   "cell_type": "code",
   "execution_count": null,
   "id": "2c28248e",
   "metadata": {},
   "outputs": [],
   "source": [
    "#db.write_meta_tables_to_csv()"
   ]
  },
  {
   "cell_type": "code",
   "execution_count": null,
   "id": "08936f00",
   "metadata": {},
   "outputs": [],
   "source": [
    "# === CONFIGURATION ===\n",
    "\"\"\"\n",
    "start_date = '2020-01-01'\n",
    "end_date = (dt.date.today() - dt.timedelta(days=1)).strftime('%Y-%m-%d')\n",
    "service_code = 'iv'\n",
    "notebook_dir = Path.cwd()\n",
    "project_root = notebook_dir.resolve().parents[0]\n",
    "datalake_path = project_root / 'data' / 'hydrology_datalake'\n",
    "db_path = project_root / 'data' / 'hydrology.duckdb'\n",
    "# output_root = Path(__file__).resolve().parents[2] / 'hydrology_datalake' # ok for main.py\n",
    "# output_root = '/Volumes/T7_raw_I/waterdata_lake'\n",
    "# datalake_path = output_root / 'timeseries_iv'\n",
    "# ======================\n",
    "\"\"\"\n",
    "\n",
    "# Configure logging ------------------------------------------------\n",
    "os.makedirs('logs', exist_ok=True)\n",
    "log_name = 'logs/' + dt.datetime.now().strftime('%Y-%m-%d_%H-%M-%S') + '.log'\n",
    "logging.basicConfig(filename=log_name,\n",
    "                    level=logging.INFO,\n",
    "                    format='%(asctime)s - %(levelname)s - %(message)s')\n",
    "# -------------------------------------------------------------------"
   ]
  },
  {
   "cell_type": "code",
   "execution_count": null,
   "id": "bdb0c0d5",
   "metadata": {},
   "outputs": [],
   "source": [
    "# Create a named tuple for site information\n",
    "SiteInfo = namedtuple('SiteInfo', ['id', 'code'])\n",
    "\n",
    "# fetch site list associated with NWIS API\n",
    "with db.connect_duckdb() as con:\n",
    "    result = con.execute(\"SELECT site_id, site_cd FROM site WHERE lower(source) LIKE '%nwis%'\").fetchall()\n",
    "    sites = [SiteInfo(site[0], site[1]) for site in result]\n",
    "for site in sites:\n",
    "    print(site.id, site.code)"
   ]
  },
  {
   "cell_type": "code",
   "execution_count": null,
   "id": "26d7ba06",
   "metadata": {},
   "outputs": [],
   "source": [
    "for id, code in sites:\n",
    "    print(f\"Processing site: {code} (ID: {id})\")"
   ]
  },
  {
   "cell_type": "code",
   "execution_count": null,
   "id": "d4dabc28",
   "metadata": {},
   "outputs": [],
   "source": [
    "approval_check = fetch_approval_status(site_cd=\"09095500\")\n",
    "#if approval_check is not None:\n",
    "#    for parameter_code, max_approval_date in approval_check:\n",
    "#        print(f\"Site code: {code}, Parameter code: {parameter_code}, Max approval date: {max_approval_date}\")\n",
    "\n",
    "\n"
   ]
  },
  {
   "cell_type": "code",
   "execution_count": null,
   "id": "09757a9c",
   "metadata": {},
   "outputs": [],
   "source": [
    "for id, code in sites:\n",
    "    logging.info(f\"Processing site: {code}, ID: {id}\")\n",
    "\n",
    "    # Fetch parameter codes for the site\n",
    "    approval_status = fetch_approval_status(site_cd=code)\n",
    "    if approval_status is not None:\n",
    "        for parameter_code, max_approval_date in approval_status:\n",
    "\n",
    "            print(f\"Site code: {code}, Parameter code: {parameter_code}, Max approval date: {max_approval_date}\")\n"
   ]
  },
  {
   "cell_type": "code",
   "execution_count": null,
   "id": "93caa709",
   "metadata": {},
   "outputs": [],
   "source": [
    "sites = sites[:1]  # Limit to first site for testing"
   ]
  },
  {
   "cell_type": "code",
   "execution_count": null,
   "id": "a89cd4ea",
   "metadata": {},
   "outputs": [],
   "source": [
    "\n",
    "for id, code in sites:\n",
    "    logging.info(f\"Processing site: {code}, ID: {id}\")\n",
    "\n",
    "    # Fetch parameter codes for the site\n",
    "    approval_status = fetch_approval_status(site_cd=code)\n",
    "\n",
    "    if not approval_status:\n",
    "        logging.warning(f\"No approval status found for site {code} (ID: {id}). Skipping...\")\n",
    "        continue\n",
    "    \n",
    "    all_data = []\n",
    "    for parameter_code, max_approval_date in approval_status:\n",
    "        logging.info(f\"Fetching data for parameter: {parameter_code}\")\n",
    "\n",
    "        # Fetch NWIS data for the site and parameter\n",
    "        df_raw = fetch_nwis_data(\n",
    "            site_code=code,\n",
    "            parameter_code=parameter_code,\n",
    "            start_date=max_approval_date,\n",
    "            end_date=(dt.date.today() - dt.timedelta(days=1)).strftime('%Y-%m-%d')\n",
    "        )\n",
    "\n",
    "        if df_raw is None:\n",
    "            continue\n",
    "\n",
    "        df_transformed = transform_nwis_iv_data(df_raw, site_code=code, parameter_code=parameter_code)\n",
    "        if not df_transformed.empty:\n",
    "            all_data.append(df_transformed)\n",
    "\n",
    "    if all_data:\n",
    "        df_combined = pd.concat(all_data, ignore_index=True)\n",
    "        # Split into dictionary by year\n",
    "        yearly_data = {year: group for year, group in df_combined.groupby(df_combined['read_ts'].dt.year)}\n",
    "        for year, new_data in yearly_data.items():\n",
    "            print(f\"Year {year}: {len(new_data)} records for site {code}\")\n",
    "\n",
    "            query = (\n",
    "                \"SELECT * \"\n",
    "                \" FROM read_parquet('/Volumes/T7_raw_I/ucpo_waterdata/hydrology_datalake/\"\n",
    "                \"timeseries_iv/site=*/year=*/*.parquet')\" \n",
    "                f\" WHERE site_cd IN ('{code}')\"\n",
    "                f\" AND year(read_ts) = {year}\"\n",
    "            )\n",
    "            with db.connect_duckdb() as con:\n",
    "                existing = con.execute(query).df()\n",
    "\n",
    "            # Fix timezone alignment first\n",
    "            if not existing.empty:\n",
    "                existing['read_ts'] = existing['read_ts'].dt.tz_localize(None)\n",
    "            new_data['read_ts'] = new_data['read_ts'].dt.tz_localize(None)\n",
    "\n",
    "            # Use concat instead of append (which is deprecated)\n",
    "            if not existing.empty:\n",
    "                # Remove existing records that match new data timestamps/parameters\n",
    "                mask = ~existing.set_index(['read_ts', 'parameter_cd']).index.isin(\n",
    "                    new_data.set_index(['read_ts', 'parameter_cd']).index\n",
    "                )\n",
    "                filtered_existing = existing[mask]\n",
    "                \n",
    "                # Combine filtered existing data with new data\n",
    "                merged = pd.concat([filtered_existing, new_data], ignore_index=True)\n",
    "            else:\n",
    "                merged = new_data.copy()\n",
    "\n",
    "            # Write the combined data to the datalake            \n",
    "\n",
    "            \n",
    "        "
   ]
  },
  {
   "cell_type": "code",
   "execution_count": null,
   "id": "5f2b2bed",
   "metadata": {},
   "outputs": [],
   "source": [
    "\n",
    "# Create a named tuple for site information\n",
    "ApprovalStatus = namedtuple('ApprovalStatus', ['parameter_code', 'max_approval_date'])\n",
    "\n",
    "for id, code in sites:\n",
    "    logging.info(f\"Processing site: {code}, ID: {id}\")\n",
    "\n",
    "    # Fetch parameter codes for the site\n",
    "    parameter_codes = fetch_site_parameters(site_id=id)\n",
    "    if not parameter_codes:\n",
    "        logging.warning(f\"No parameters found for site {code} (ID: {id}). Skipping...\")\n",
    "        continue\n",
    "    for parameter in parameter_codes:\n",
    "        query = (\n",
    "            \"SELECT parameter_cd, strftime(max(datetime_utc), '%Y-%m-%d') AS date\"\n",
    "            \" FROM vw_nwis_iv_local\"\n",
    "            f\" WHERE site_cd = '{code}'\"\n",
    "            f\" AND parameter_cd = '{parameter}'\"\n",
    "            \" AND approval_status = 'A'\"\n",
    "            \" GROUP BY site_cd, parameter_cd\"\n",
    "        )\n",
    "\n",
    "        with db.connect_duckdb() as con:\n",
    "            result = con.execute(query).fetchall()\n",
    "        if result:\n",
    "            for approval in result:\n",
    "                approval_status = ApprovalStatus(approval[0], approval[1])\n",
    "                print(approval_status)\n",
    "\n",
    "        "
   ]
  },
  {
   "cell_type": "code",
   "execution_count": null,
   "id": "9d7f50bd",
   "metadata": {},
   "outputs": [],
   "source": [
    "code = '09041395'\n",
    "year = 2025\n",
    "query = (\n",
    "        \"SELECT * \"\n",
    "        \" FROM read_parquet('/Volumes/T7_raw_I/ucpo_waterdata/hydrology_datalake/\"\n",
    "        \"timeseries_iv/site=*/year=*/*.parquet')\" \n",
    "        f\" WHERE site_cd IN ('{code}')\"\n",
    "        f\" AND year(read_ts) = {year}\"\n",
    "        \" LIMIT 500\")\n",
    "with db.connect_duckdb() as con:\n",
    "    existing = con.execute(query).df()\n"
   ]
  },
  {
   "cell_type": "code",
   "execution_count": null,
   "id": "ee16e1ec",
   "metadata": {},
   "outputs": [],
   "source": [
    "for id, code in sites:\n",
    "    logging.info(f\"Processing site: {code}, ID: {id}\")\n",
    "\n",
    "    query = (\n",
    "    \"SELECT p.parameter_cd\"\n",
    "    \" FROM parameter p\"\n",
    "    \" INNER JOIN site_parameter sp ON p.parameter_id = sp.parameter_id\"\n",
    "    f\" WHERE sp.site_id = '{id}'\"\n",
    "    )\n",
    "\n",
    "    with db.connect_duckdb() as con:\n",
    "        params = con.execute(query).fetchall()\n",
    "        parameter_codes = [param[0] for param in params]\n",
    "        print(parameter_codes)\n",
    "\n",
    "    all_data = []\n",
    "# Loop through each site and its associated parameter codes\n",
    "    for pcode in parameter_codes:\n",
    "        df_raw = fetch_nwis_data(\n",
    "            site=code,\n",
    "            pcode=pcode,\n",
    "            start_date=start_date,\n",
    "            end_date=end_date,\n",
    "        )\n",
    "        if df_raw is None:\n",
    "            continue\n",
    "\n",
    "        df_transformed = transform_nwis_iv_data(df_raw, site=code, pcode=pcode)\n",
    "        if not df_transformed.empty:\n",
    "            all_data.append(df_transformed)\n",
    "\n",
    "    if all_data:\n",
    "        df_combined = pd.concat(all_data, ignore_index=True)\n",
    "        write_to_datalake(df_combined, site=code)\n",
    "\n",
    "    \n",
    "    "
   ]
  },
  {
   "cell_type": "code",
   "execution_count": null,
   "id": "e94de0d0",
   "metadata": {},
   "outputs": [],
   "source": [
    "df_raw.columns"
   ]
  },
  {
   "cell_type": "code",
   "execution_count": null,
   "id": "5a2789b1",
   "metadata": {},
   "outputs": [],
   "source": [
    "with db.connect_duckdb() as con:\n",
    "    result = con.execute(\"SELECT * FROM vw_nwis_annual_stats_local WHERE approval_status = 'A' AND year = 2023 AND parameter_nm = 'Water temperature'\").df()\n",
    "    param_codes = con.execute(\"SELECT DISTINCT parameter_cd FROM vw_nwis_iv_local\").fetchall()\n",
    "    param_codes = [param[0] for param in param_codes]\n",
    "    print(param_codes)"
   ]
  },
  {
   "cell_type": "code",
   "execution_count": null,
   "id": "d87aa57a",
   "metadata": {},
   "outputs": [],
   "source": [
    "query = \"\"\"\n",
    "    SELECT site_nm, parameter_nm, max(max_value) AS max_value\n",
    "    FROM vw_nwis_annual_stats_local\n",
    "    WHERE approval_status = 'A' AND hydro_area_nm = 'Colorado River'\n",
    "    GROUP BY site_nm, year, parameter_nm\n",
    "    \"\"\"\n",
    "\n",
    "with db.connect_duckdb() as con:\n",
    "    result = con.execute(query).df()\n",
    "    print(result.head())"
   ]
  },
  {
   "cell_type": "code",
   "execution_count": null,
   "id": "fb11dba7",
   "metadata": {},
   "outputs": [],
   "source": [
    "with db.connect_duckdb() as con:\n",
    "    result = con.execute(\"SELECT * FROM vw_nwis_annual_stats_local WHERE min_date IS NULL\").df()\n",
    "    print(result.head())"
   ]
  },
  {
   "cell_type": "code",
   "execution_count": null,
   "id": "9d71bf4d",
   "metadata": {},
   "outputs": [],
   "source": [
    "result.columns\n",
    "print(result['parameter_cd'].unique())"
   ]
  },
  {
   "cell_type": "code",
   "execution_count": null,
   "id": "aedf6b98",
   "metadata": {},
   "outputs": [],
   "source": [
    "site = '09095500'\n",
    "query = (\n",
    "    \"SELECT p.parameter_cd\"\n",
    "    \" FROM parameter p\"\n",
    "    \" INNER JOIN site_parameter sp ON p.parameter_id = sp.parameter_id\"\n",
    "    \" INNER JOIN site s ON sp.site_id = s.site_id\"\n",
    "    f\" WHERE s.site_cd = '{site}'\"\n",
    ")\n",
    "\n",
    "with db.connect_duckdb() as con:\n",
    "        params = con.execute(query).fetchall()\n",
    "        pcodes = [param[0] for param in params]\n",
    "        print(pcodes)\n",
    "\n",
    "\n",
    "\n"
   ]
  },
  {
   "cell_type": "code",
   "execution_count": null,
   "id": "c4e43319",
   "metadata": {},
   "outputs": [],
   "source": [
    "with db.connect_duckdb() as con:\n",
    "    tables = con.execute(\"SHOW TABLES\").fetchall()\n",
    "    table_names = [table[0]for table in tables]\n",
    "\n",
    "    print(table_names)\n",
    "\n",
    "with db.connect_duckdb() as con:\n",
    "    columns = con.execute(\"DESCRIBE site\").fetchall()\n",
    "    column_names = [col[0] for col in columns]\n",
    "\n",
    "    print(column_names)"
   ]
  },
  {
   "cell_type": "code",
   "execution_count": null,
   "id": "c14bd789",
   "metadata": {},
   "outputs": [],
   "source": []
  },
  {
   "cell_type": "code",
   "execution_count": null,
   "id": "01c105dd",
   "metadata": {},
   "outputs": [],
   "source": [
    "ck = pd.read_csv(\"../artifacts/site_parameter.csv\",\n",
    "                 dtype={\"parameter_cd\": \"string\",\n",
    "                        \"site_cd\": \"string\"})\n",
    "print(ck.head())"
   ]
  },
  {
   "cell_type": "code",
   "execution_count": null,
   "id": "9a55982c",
   "metadata": {},
   "outputs": [],
   "source": [
    "db.refresh_db_from_csv(table_name=\"site_parameter\", csv_path=\"../artifacts\")"
   ]
  },
  {
   "cell_type": "code",
   "execution_count": null,
   "id": "fff7c572",
   "metadata": {},
   "outputs": [],
   "source": [
    "with db.connect_duckdb() as con:\n",
    "    # Check if the table is refreshed\n",
    "    refreshed_data = con.execute(\"SELECT * FROM site\").df()\n",
    "    print(f\"Refreshed data in 'parameter' table: {refreshed_data[:5]}\")  # Print first 5 rows for verification"
   ]
  },
  {
   "cell_type": "code",
   "execution_count": null,
   "id": "4dcf5f12",
   "metadata": {},
   "outputs": [],
   "source": [
    "data = [\n",
    "    {\n",
    "        'site_id': 46,\n",
    "        'site_cd': '2003',\n",
    "        'site_nm': 'SHADOW MOUNTAIN RESERVOIR',\n",
    "        'site_dsc': None,\n",
    "        'agency_cd': 'BOR',\n",
    "        'agency_nm': 'US Bureau of Reclamation',\n",
    "        'lat_dd': 40.22698,\n",
    "        'lon_dd': -105.84385,\n",
    "        'elev_m': None,\n",
    "        'site_type': 'lake',\n",
    "        'hydro_area_cd': 'SMR',\n",
    "        'hydro_area_nm': 'Shadow Mountain Reservoir',\n",
    "        'source': 'https://www.usbr.gov/uc/water/hydrodata/reservoir_data/<site_cd>/csv/<parameter_cd>.csv'\n",
    "    },\n",
    "    {\n",
    "        'site_id': 47,\n",
    "        'site_cd': '100118',\n",
    "        'site_nm': 'WILLOW CREEK RESERVOIR',\n",
    "        'site_dsc': None,\n",
    "        'agency_cd': 'BOR',\n",
    "        'agency_nm': 'US Bureau of Reclamation',\n",
    "        'lat_dd': 40.146932,\n",
    "        'lon_dd': -105.942513,\n",
    "        'elev_m': None,\n",
    "        'site_type': 'lake',\n",
    "        'hydro_area_cd': 'WCR',\n",
    "        'hydro_area_nm': 'Willow Creek Reservoir',\n",
    "        'source': 'https://www.usbr.gov/uc/water/hydrodata/reservoir_data/<site_cd>/csv/<parameter_cd>.csv'\n",
    "    }\n",
    "]\n",
    "\n",
    "df = pd.DataFrame(data)\n",
    "df['created_ts'] = pd.Timestamp.now()\n",
    "df['updated_ts'] = pd.Timestamp.now()"
   ]
  },
  {
   "cell_type": "code",
   "execution_count": null,
   "id": "4617f250",
   "metadata": {},
   "outputs": [],
   "source": [
    "with connect_duckdb() as con:\n",
    "    #con.register('site_tmp', df)\n",
    "    result = con.execute(\"SELECT * FROM site\").df()"
   ]
  },
  {
   "cell_type": "code",
   "execution_count": null,
   "id": "92f6b61f",
   "metadata": {},
   "outputs": [],
   "source": [
    "data = [\n",
    "    {\n",
    "        'parameter_id': 30,\n",
    "        'parameter_cd': '63160',\n",
    "        'parameter_nm': 'Stream surface elevation',\n",
    "        'parameter_dsc': 'NAVD 1988',\n",
    "        'unit_cd': 'ft',\n",
    "        'unit_nm': 'Feet'\n",
    "    },\n",
    "    {\n",
    "        'parameter_id': 31,\n",
    "        'parameter_cd': '00054',\n",
    "        'parameter_nm': 'Reservoir storage',\n",
    "        'parameter_dsc': None,\n",
    "        'unit_cd': 'af',\n",
    "        'unit_nm': 'Acre-feet'\n",
    "    }\n",
    "]\n",
    "df = pd.DataFrame(data)\n",
    "df['created_ts'] = pd.Timestamp.now()\n",
    "df['updated_ts'] = pd.Timestamp.now()"
   ]
  },
  {
   "cell_type": "code",
   "execution_count": null,
   "id": "aad15677",
   "metadata": {},
   "outputs": [],
   "source": [
    "with connect_duckdb() as con:\n",
    "    df = con.execute(\"SELECT * FROM parameter\").df()"
   ]
  },
  {
   "cell_type": "code",
   "execution_count": null,
   "id": "ba5c4e21",
   "metadata": {},
   "outputs": [],
   "source": [
    "query = (\n",
    "    \"SELECT sp.site_id, s.site_nm, p.parameter_id, p.parameter_nm, p.parameter_cd\"\n",
    "    \" FROM site_parameter sp\"\n",
    "    \" LEFT JOIN parameter p\"\n",
    "    \" ON sp.parameter_id = p.parameter_id\"\n",
    "    \" LEFT JOIN site s\"\n",
    "    \" ON sp.site_id = s.site_id\"\n",
    "    \" ORDER BY sp.site_id, p.parameter_id\"\n",
    ")\n",
    "#query = \"select * from parameter\"\n",
    "with connect_duckdb() as con:\n",
    "    result = con.execute(query).df()\n",
    "    \n",
    "\"\"\"\n",
    "\n",
    "print(query)\n",
    "with connect_duckdb() as con:\n",
    "    df = con.execute(query).df()\n",
    "    print(df.head())\n",
    "\"\"\"\n"
   ]
  },
  {
   "cell_type": "code",
   "execution_count": null,
   "id": "ed97791a",
   "metadata": {},
   "outputs": [],
   "source": [
    "result['created_ts'] = pd.Timestamp.now()\n",
    "result['updated_ts'] = pd.Timestamp.now()\n",
    "result['site_parameter_id'] = range(1, len(result) + 1)\n",
    "result = result[['site_parameter_id', 'site_id', 'parameter_id', 'created_ts', 'updated_ts']].copy()\n"
   ]
  },
  {
   "cell_type": "code",
   "execution_count": null,
   "id": "2c6ea0f7",
   "metadata": {},
   "outputs": [],
   "source": [
    "\n",
    "with connect_duckdb() as con:\n",
    "    con.register('site_parameter_tmp', result)\n",
    "    con.execute(\"INSERT INTO site_parameter SELECT * FROM site_parameter_tmp\")\n",
    "    print(con.execute(\"SELECT * FROM site_parameter\").df().head())"
   ]
  },
  {
   "cell_type": "code",
   "execution_count": null,
   "id": "ed97791a",
   "metadata": {},
   "outputs": [],
   "source": [
    "result['created_ts'] = pd.Timestamp.now()\n",
    "result['updated_ts'] = pd.Timestamp.now()\n",
    "result['site_parameter_id'] = range(1, len(result) + 1)\n",
    "result = result[['site_parameter_id', 'site_id', 'parameter_id', 'created_ts', 'updated_ts']].copy()\n"
   ]
  },
  {
   "cell_type": "code",
   "execution_count": null,
   "id": "2c6ea0f7",
   "metadata": {},
   "outputs": [],
   "source": [
    "\n",
    "with connect_duckdb() as con:\n",
    "    con.register('site_parameter_tmp', result)\n",
    "    con.execute(\"INSERT INTO site_parameter SELECT * FROM site_parameter_tmp\")\n",
    "    print(con.execute(\"SELECT * FROM site_parameter\").df().head())"
   ]
  },
  {
   "cell_type": "code",
   "execution_count": null,
   "id": "48c0f181",
   "metadata": {},
   "outputs": [],
   "source": [
    "query = \"\"\"\n",
    "    SELECT hydro_area_nm, site_nm, year, max_value, max_date\n",
    "    FROM vw_nwis_annual_stats_local\n",
    "    WHERE parameter_cd = '00060'\n",
    "    order by year DESC, hydro_area_nm, site_nm\n",
    "    \"\"\"\n",
    "query = \"SELECT * FROM parameter\"\n",
    "\n",
    "with connect_duckdb() as con:\n",
    "    result = con.execute(query).df()\n",
    "    print(result.head())"
   ]
  },
  {
   "cell_type": "code",
   "execution_count": null,
   "id": "94de3233",
   "metadata": {},
   "outputs": [],
   "source": [
    "nwis_params = pd.read_csv(\"../artifacts/USGS_parameter_codes.tsv\", sep=\"\\t\", dtype=str)\n",
    "nwis_params = nwis_params.loc[~nwis_params['parameter_cd'].isin(['00060', '00010'])].reset_index(drop=True)\n",
    "nwis_params['parameter_id'] = range(23, len(nwis_params) + 23)\n",
    "nwis_params['create_ts'] = pd.Timestamp.now()\n",
    "nwis_params['update_ts'] = pd.Timestamp.now()"
   ]
  },
  {
   "cell_type": "code",
   "execution_count": null,
   "id": "3e32abd8",
   "metadata": {},
   "outputs": [],
   "source": [
    "column_list = result.columns.tolist()\n",
    "nwis_params = nwis_params[column_list].copy()"
   ]
  },
  {
   "cell_type": "code",
   "execution_count": null,
   "id": "f691454c",
   "metadata": {},
   "outputs": [],
   "source": [
    "with connect_duckdb() as con:\n",
    "    con.register('nwis_params', nwis_params)\n",
    "    con.execute(\"INSERT INTO parameter SELECT * FROM nwis_params\")"
   ]
  },
  {
   "cell_type": "code",
   "execution_count": null,
   "id": "91fb18f6",
   "metadata": {},
   "outputs": [],
   "source": [
    "query = \"SELECT * FROM site\"\n",
    "query = \"SELECT * FROM parameter\""
   ]
  },
  {
   "cell_type": "code",
   "execution_count": null,
   "id": "02932577",
   "metadata": {},
   "outputs": [],
   "source": [
    "run_sql_file(Path('../db/views.sql'))"
   ]
  },
  {
   "cell_type": "code",
   "execution_count": null,
   "id": "9dc42f22",
   "metadata": {},
   "outputs": [],
   "source": [
    "with connect_duckdb() as con:\n",
    "    result = con.execute(query).df()\n",
    "print(result.head())"
   ]
  },
  {
   "cell_type": "code",
   "execution_count": null,
   "id": "88199d3e",
   "metadata": {},
   "outputs": [],
   "source": [
    "param = pd.read_csv('../artifacts/parameters.csv')\n",
    "\n",
    "with connect_duckdb() as con:\n",
    "    con.register('param', param)\n",
    "    con.execute('INSERT INTO parameter SELECT * FROM param')"
   ]
  }
 ],
 "metadata": {
  "kernelspec": {
   "display_name": ".venv",
   "language": "python",
   "name": "python3"
  },
  "language_info": {
   "codemirror_mode": {
    "name": "ipython",
    "version": 3
   },
   "file_extension": ".py",
   "mimetype": "text/x-python",
   "name": "python",
   "nbconvert_exporter": "python",
   "pygments_lexer": "ipython3",
   "version": "3.12.9"
  }
 },
 "nbformat": 4,
 "nbformat_minor": 5
}
