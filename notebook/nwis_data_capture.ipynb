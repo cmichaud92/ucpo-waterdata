{
 "cells": [
  {
   "cell_type": "code",
   "execution_count": 4,
   "id": "a92ecbcf",
   "metadata": {},
   "outputs": [],
   "source": [
    "import sys\n",
    "import logging\n",
    "import pandas as pd\n",
    "import os\n",
    "import datetime as dt\n",
    "from pathlib import Path\n",
    "sys.path.append('../src')\n",
    "import utils.duckdb_utils as du\n",
    "from utils.fetch_data import fetch_nwis_data\n",
    "from utils.transform_data import transform_nwis_iv_data\n",
    "from utils.write_to_datalake import write_to_datalake\n",
    "\n",
    "\n"
   ]
  },
  {
   "cell_type": "code",
   "execution_count": null,
   "id": "f01a7a0d",
   "metadata": {},
   "outputs": [],
   "source": [
    "# === CONFIGURATION ===\n",
    "#parameter_codes = ['00060', '00010', '62614']\n",
    "start_date = '2024-01-01'\n",
    "end_date = (dt.date.today() - dt.timedelta(days=1)).strftime('%Y-%m-%d')\n",
    "service_code = 'iv'\n",
    "notebook_dir = Path.cwd()\n",
    "project_root = notebook_dir.resolve().parents[0]\n",
    "datalake_path = project_root / 'data' / 'hydrology_datalake'\n",
    "db_path = project_root / 'data' / 'hydrology.duckdb'\n",
    "# ======================\n",
    "\n",
    "\n",
    "# Configure logging ------------------------------------------------\n",
    "os.makedirs(project_root / 'logs', exist_ok=True)\n",
    "log_name = str(project_root) + '/logs/' + dt.datetime.now().strftime('%Y-%m-%d_%H-%M-%S') + '.log'\n",
    "logging.basicConfig(filename=log_name,\n",
    "                    level=logging.INFO,\n",
    "                    format='%(asctime)s - %(levelname)s - %(message)s')\n",
    "# -------------------------------------------------------------------"
   ]
  },
  {
   "cell_type": "code",
   "execution_count": 16,
   "id": "10a6e021",
   "metadata": {},
   "outputs": [
    {
     "name": "stdout",
     "output_type": "stream",
     "text": [
      "[\"\\n        SELECT site_cd\\n        FROM site\\n        WHERE agency_cd = 'USGS'\", '\\n        SELECT parameter_cd\\n        FROM parameter\\n        WHERE length(parameter_cd) = 5', '\\n        ']\n"
     ]
    }
   ],
   "source": [
    "query = \"\"\"\n",
    "        SELECT site_cd\n",
    "        FROM site\n",
    "        WHERE agency_cd = 'USGS';\n",
    "        SELECT parameter_cd\n",
    "        FROM parameter\n",
    "        WHERE length(parameter_cd) = 5;\n",
    "        \"\"\"\n",
    "queries = query.split(';')\n",
    "\n",
    "print(queries)"
   ]
  },
  {
   "cell_type": "code",
   "execution_count": 17,
   "id": "7c395753",
   "metadata": {},
   "outputs": [
    {
     "name": "stderr",
     "output_type": "stream",
     "text": [
      "ERROR:root:Error connecting to Duckdb at C:\\Users\\miesho\\Projects_git\\ucpo_waterdata\\src\\data\\hydrologic_data.duckdb: 'NoneType' object has no attribute 'fetchall'\n"
     ]
    },
    {
     "ename": "AttributeError",
     "evalue": "'NoneType' object has no attribute 'fetchall'",
     "output_type": "error",
     "traceback": [
      "\u001b[31m---------------------------------------------------------------------------\u001b[39m",
      "\u001b[31mAttributeError\u001b[39m                            Traceback (most recent call last)",
      "\u001b[36mCell\u001b[39m\u001b[36m \u001b[39m\u001b[32mIn[17]\u001b[39m\u001b[32m, line 4\u001b[39m\n\u001b[32m      2\u001b[39m \u001b[38;5;28;01mwith\u001b[39;00m du.connect_duckdb() \u001b[38;5;28;01mas\u001b[39;00m con:\n\u001b[32m      3\u001b[39m     \u001b[38;5;28;01mfor\u001b[39;00m q \u001b[38;5;129;01min\u001b[39;00m queries:\n\u001b[32m----> \u001b[39m\u001b[32m4\u001b[39m         tmp = \u001b[43mcon\u001b[49m\u001b[43m.\u001b[49m\u001b[43mexecute\u001b[49m\u001b[43m(\u001b[49m\u001b[43mq\u001b[49m\u001b[43m)\u001b[49m\u001b[43m.\u001b[49m\u001b[43mfetchall\u001b[49m()\n\u001b[32m      5\u001b[39m         result.append([row[\u001b[32m0\u001b[39m] \u001b[38;5;28;01mfor\u001b[39;00m row \u001b[38;5;129;01min\u001b[39;00m tmp \u001b[38;5;28;01mif\u001b[39;00m row[\u001b[32m0\u001b[39m] \u001b[38;5;129;01mis\u001b[39;00m \u001b[38;5;129;01mnot\u001b[39;00m \u001b[38;5;28;01mNone\u001b[39;00m])\n\u001b[32m      8\u001b[39m \u001b[38;5;28mprint\u001b[39m(result)\n",
      "\u001b[31mAttributeError\u001b[39m: 'NoneType' object has no attribute 'fetchall'"
     ]
    }
   ],
   "source": [
    "\n",
    "result = []\n",
    "with du.connect_duckdb() as con:\n",
    "    for q in queries:\n",
    "        tmp = con.execute(q).fetchall()\n",
    "        result.append([row[0] for row in tmp if row[0] is not None])\n",
    "\n",
    "    \n",
    "print(result)"
   ]
  },
  {
   "cell_type": "code",
   "execution_count": 4,
   "id": "94e8e571",
   "metadata": {},
   "outputs": [],
   "source": [
    "for site in sites:\n",
    "    logging.info(f\"Fetching data for site {site}\")\n",
    "    all_data = []\n",
    "    for pcode in parameter_codes:\n",
    "        df_raw = fetch_nwis_data(\n",
    "            site=site,\n",
    "            pcode=pcode,\n",
    "            start_date=start_date,\n",
    "            end_date=end_date,\n",
    "        )\n",
    "        if df_raw is None:\n",
    "            continue\n",
    "\n",
    "        df_transformed = transform_nwis_iv_data(df_raw, site, pcode)\n",
    "        if not df_transformed.empty:\n",
    "            all_data.append(df_transformed)\n",
    "\n",
    "    if all_data:\n",
    "        df_combined = pd.concat(all_data, ignore_index=True)\n",
    "        write_to_datalake(df_combined, site)\n",
    "\n",
    "    \n"
   ]
  },
  {
   "cell_type": "code",
   "execution_count": null,
   "id": "999a43f9",
   "metadata": {},
   "outputs": [],
   "source": [
    "query = (\"\"\"\n",
    "    SELECT *\n",
    "    FROM vw_nwis_annual_stats_local\n",
    "    WHERE hydro_area_nm LIKE '%Colo%' AND\n",
    "         year = 1980\n",
    "\"\"\")\n",
    "\n",
    "\n",
    "print(query)"
   ]
  },
  {
   "cell_type": "code",
   "execution_count": null,
   "id": "7189111d",
   "metadata": {},
   "outputs": [],
   "source": [
    "query = (\"\"\"\n",
    "    SELECT *\n",
    "    FROM vw_nwis_annual_stats_local\n",
    "    WHERE (hydro_area_nm LIKE '%Green%' OR\n",
    "           hydro_area_nm LIKE '%Colo%') AND\n",
    "         YEAR IN (1999, 2000)\n",
    "\"\"\")\n",
    "\n",
    "\n",
    "print(query)"
   ]
  },
  {
   "cell_type": "code",
   "execution_count": null,
   "id": "48845d6a",
   "metadata": {},
   "outputs": [],
   "source": [
    "query = (\"\"\"\n",
    "    SELECT s.site_nm, iv.site_cd, year, COUNT(*)\n",
    "        FROM read_parquet('C:/Users/miesho/Projects_git/ucpo_waterdata/data/hydrology_datalake/timeseries_iv/site=*/year=*/*.parquet') iv\n",
    "         INNer JOIN site s ON iv.site_cd = s.site_cd\n",
    "        GROUP BY s.site_nm, iv.site_cd, year\n",
    "         ORDER BY s.site_nm, iv.site_cd, year\n",
    "         \"\"\")\n",
    "\n",
    "\n",
    "print(query)"
   ]
  },
  {
   "cell_type": "code",
   "execution_count": null,
   "id": "0a1142a8",
   "metadata": {},
   "outputs": [],
   "source": [
    "query = (\"SELECT DISTINCT parameter_cd FROM vw_nwis_iv_local\")"
   ]
  },
  {
   "cell_type": "code",
   "execution_count": null,
   "id": "62d449ef",
   "metadata": {},
   "outputs": [],
   "source": [
    "#du.run_sql_file('../db/views.sql')"
   ]
  },
  {
   "cell_type": "code",
   "execution_count": null,
   "id": "44b70980",
   "metadata": {},
   "outputs": [],
   "source": [
    "with du.connect_duckdb() as con:\n",
    "    result = con.execute(query).df()\n",
    "print(result)"
   ]
  },
  {
   "cell_type": "code",
   "execution_count": null,
   "id": "883ebd3b",
   "metadata": {},
   "outputs": [],
   "source": [
    "with du.connect_duckdb() as con:\n",
    "    sites = con.execute(\"SELECT * FROM site\").df()"
   ]
  }
 ],
 "metadata": {
  "kernelspec": {
   "display_name": "ucpo_waterdata",
   "language": "python",
   "name": "python3"
  },
  "language_info": {
   "codemirror_mode": {
    "name": "ipython",
    "version": 3
   },
   "file_extension": ".py",
   "mimetype": "text/x-python",
   "name": "python",
   "nbconvert_exporter": "python",
   "pygments_lexer": "ipython3",
   "version": "3.12.9"
  }
 },
 "nbformat": 4,
 "nbformat_minor": 5
}
