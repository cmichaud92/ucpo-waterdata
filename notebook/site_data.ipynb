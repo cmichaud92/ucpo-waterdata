{
 "cells": [
  {
   "cell_type": "code",
   "execution_count": null,
   "id": "5627f57a",
   "metadata": {},
   "outputs": [],
   "source": [
    "import pandas as pd\n",
    "import numpy as np\n",
    "import requests\n",
    "import sys\n",
    "import logging\n",
    "import os\n",
    "import datetime as dt\n",
    "sys.path.append('../src')\n",
    "print(sys.path)  # Debug: check if '../src' is in sys.path\n",
    "\n",
    "from utils.fetch_data import fetch_nwis_data\n",
    "import utils.duckdb_utils as du\n",
    "import utils.site_list as sl\n",
    "\n"
   ]
  },
  {
   "cell_type": "code",
   "execution_count": null,
   "id": "ad751b63",
   "metadata": {},
   "outputs": [],
   "source": [
    "# Configure logging ------------------------------------------------\n",
    "os.makedirs('logs', exist_ok=True)\n",
    "log_name = 'logs/' + dt.datetime.now().strftime('%Y-%m-%d_%H-%M-%S') + '.log'\n",
    "logging.basicConfig(filename=log_name,\n",
    "                    level=logging.INFO,\n",
    "                    format='%(asctime)s - %(levelname)s - %(message)s')\n",
    "# -------------------------------------------------------------------"
   ]
  },
  {
   "cell_type": "code",
   "execution_count": null,
   "id": "f6f98119",
   "metadata": {},
   "outputs": [],
   "source": [
    "print(sl.nwis_sites)\n",
    "sites = \", \".join(sl.nwis_sites)\n",
    "\n",
    "with du.connect_duckdb() as con:\n",
    "    result = con.execute(\"SELECT site_nm from site WHERE agency_cd = 'USGS'\").fetchall()\n",
    "    sites = [row[0] for row in result]\n",
    "    print(sites)\n",
    "\n",
    "with du.connect_duckdb() as con:\n",
    "    result = con.execute(\"SELECT site_cd, site_nm from site WHERE agency_cd = 'USGS' AND hydro_area_cd = 'GR'\").df()\n",
    "    print(result)\n",
    "    \n",
    "with du.connect_duckdb() as con:\n",
    "    result = con.execute(\"SELECT max(site_id) FROM site\").fetchone()\n",
    "    print(result)"
   ]
  },
  {
   "cell_type": "code",
   "execution_count": null,
   "id": "6be0ac66",
   "metadata": {},
   "outputs": [],
   "source": [
    "nwis_rename_map = {\n",
    "    'site_no': 'site_cd',\n",
    "    'station_nm': 'site_nm',\n",
    "    'agency_cd': 'agency_cd',\n",
    "    'dec_lat_va': 'lat_dd',\n",
    "    'dec_long_va': 'lon_dd',\n",
    "    'alt_va': 'elev_ft',\n",
    "    'site_tp_cd': 'site_type'\n",
    "    }\n",
    "\n",
    "bor_rename_map = {\n",
    "    'site_id': 'site_cd', 'site_metadata.site_name': 'site_nm', \n",
    "    'site_metadata.lat': 'lat_dd', 'site_metadata.longi': 'lon_dd', \n",
    "    'site_metadata.elevation': 'elev_ft',\n",
    "\n",
    "}"
   ]
  },
  {
   "cell_type": "code",
   "execution_count": null,
   "id": "47d99f00",
   "metadata": {},
   "outputs": [],
   "source": [
    "sites = [\"09272400\", \"09301500\", \"09295100\", \"09295000\", \"09314500\", \"404417108524900\", \"09244490\", \"09247600\"]\n",
    "quoted_sites = \"'\" + \"', '\".join(sites) + \"'\"\n",
    "with du.connect_duckdb() as con:\n",
    "    result = con.execute(f\"SELECT site_cd, site_nm FROM site WHERE site_cd IN ({quoted_sites})\").fetchall()\n",
    "    sites_ckd = [row[0] for row in result]\n",
    "    print(f\"Checked sites: {sites_ckd}\")\n"
   ]
  },
  {
   "cell_type": "code",
   "execution_count": null,
   "id": "3e36079b",
   "metadata": {},
   "outputs": [],
   "source": [
    "nwis_metadata = fetch_nwis_data(\n",
    "    site=\",\".join(sites),\n",
    "    service_code='site')"
   ]
  },
  {
   "cell_type": "code",
   "execution_count": null,
   "id": "f56e7245",
   "metadata": {},
   "outputs": [],
   "source": [
    "\n",
    "\n",
    "selected = nwis_metadata[list(nwis_rename_map)].rename(columns=nwis_rename_map).reset_index(drop=True)\n",
    "merged = selected.merge(sl.hydrologic_areas, on='site_cd', how='left')\n",
    "merged['elev_m'] = (merged['elev_ft'] * 0.3048).round()\n",
    "merged['lat_dd'] = merged['lat_dd'].round(7)\n",
    "merged['lon_dd'] = merged['lon_dd'].round(7)\n",
    "merged['agency_nm'] = 'US Geological Survey'\n",
    "merged['site_type'] = merged['site_type'].str.replace('ST', 'Stream')\n",
    "merged['site_type'] = merged['site_type'].str.replace('LK', 'Lake')\n",
    "merged['source'] = 'NWIS API'\n",
    "merged['site_dsc'] = None\n",
    "merged['site_id'] = range(48, 48 + len(merged))\n",
    "merged['create_ts'] = dt.datetime.now()\n",
    "merged['update_ts'] = dt.datetime.now()\n",
    "\n",
    "conditions = [\n",
    "    merged['site_nm'].str.contains('Duchesne', case=False, na=False),\n",
    "    merged['site_nm'].str.contains('Green', case=False, na=False),\n",
    "    merged['site_nm'].str.contains('Yampa', case=False, na=False),\n",
    "    merged['site_nm'].str.contains('Uinta', case=False, na=False),\n",
    "    merged['site_nm'].str.contains('Price', case=False, na=False),\n",
    "]\n",
    "\n",
    "choices_cd = ['DU', 'GR', 'YA', 'UI', 'PR']\n",
    "choices_nm = ['Duchesne River', 'Green River', 'Yampa River', 'Uinta River', 'Price River']\n",
    "merged['hydro_area_cd'] = np.select(conditions, choices_cd, default=\"unknown\")\n",
    "merged['hydro_area_nm'] = np.select(conditions, choices_nm, default=\"unknown\")\n",
    "\n",
    "\n",
    "nwis_metadata_cleaned = merged[\n",
    "    ['site_id', 'site_cd', 'site_nm', 'site_dsc', 'agency_cd', 'agency_nm', \n",
    "    'lat_dd', 'lon_dd', 'elev_m', 'site_type', 'hydro_area_cd',\n",
    "    'hydro_area_nm', 'source', 'create_ts', 'update_ts']].sort_values(by='site_cd')\n"
   ]
  },
  {
   "cell_type": "code",
   "execution_count": null,
   "id": "30af199d",
   "metadata": {},
   "outputs": [],
   "source": [
    "with du.connect_duckdb() as con:\n",
    "    \n",
    "    result = con.execute('SELECT * FROM site').df()\n",
    "    print(result)\n",
    "    "
   ]
  },
  {
   "cell_type": "code",
   "execution_count": null,
   "id": "0f9b9990",
   "metadata": {},
   "outputs": [],
   "source": [
    "bor_metadata = pd.read_csv(\"https://www.usbr.gov/uc/water/hydrodata/reservoir_data/meta.csv\")\n",
    "bor_selected = bor_metadata[list(bor_rename_map)].rename(columns=bor_rename_map).reset_index(drop=True)\n",
    "bor_selected['site_cd'] = bor_selected['site_cd'].astype(str)\n",
    "bor_filtered = bor_selected[bor_selected['site_cd'].isin(sl.bor_sites)].drop_duplicates(subset='site_cd')\n",
    "\n",
    "bor_merged = bor_filtered.merge(sl.hydrologic_areas, on='site_cd', how='left')\n",
    "bor_merged['elev_m'] = (bor_merged['elev_ft'] * 0.3048).round()\n",
    "bor_merged['lat_dd'] = bor_merged['lat_dd'].round(7)\n",
    "bor_merged['lon_dd'] = bor_merged['lon_dd'].round(7)\n",
    "bor_merged['agency_nm'] = 'US Bureau of Reclamation'\n",
    "bor_merged['agency_cd'] = 'BOR'\n",
    "bor_merged['site_type'] = \"Lake\"\n",
    "bor_merged['source'] = 'https://www.usbr.gov/uc/water/hydrodata/reservoir_data/<site_cd>/csv/<parameter_cd>.csv'\n",
    "bor_merged['site_dsc'] = None\n",
    "bor_merged['site_id'] = range(18, len(bor_merged) + 18)\n",
    "bor_merged['create_ts'] = dt.datetime.now()\n",
    "bor_merged['update_ts'] = dt.datetime.now()\n",
    "\n",
    "bor_metadata_cleaned = bor_merged[\n",
    "    ['site_id', 'site_cd', 'site_nm', 'site_dsc', 'agency_cd', 'agency_nm', \n",
    "    'lat_dd', 'lon_dd', 'elev_m', 'site_type', 'hydro_area_cd',\n",
    "    'hydro_area_nm', 'source', 'create_ts', 'update_ts']]\n",
    "\n"
   ]
  },
  {
   "cell_type": "code",
   "execution_count": null,
   "id": "93d56ed5",
   "metadata": {},
   "outputs": [],
   "source": [
    "with du.connect_duckdb() as con:\n",
    "    new_sites = con.execute(\"SELECT * FROM site WHERE site_id > 47\").df()\n",
    "    parameters = con.execute(\"SELECT * FROM parameter\").df()\n",
    "    site_param = con.execute(\"SELECT * FROM site_parameter\").df()\n",
    "    "
   ]
  },
  {
   "cell_type": "code",
   "execution_count": null,
   "id": "d21b4325",
   "metadata": {},
   "outputs": [],
   "source": [
    "with du.connect_duckdb() as con:\n",
    "    # Verify the data was inserted\n",
    "    result = con.execute(\"SELECT MAX(site_parameter_id) FROM site_parameter\").fetchone()\n",
    "    print(f\"max site_parameter_id from 'site_parameter' table: {result[0]}\")\n",
    "    #logging.info(f\"Number of rows in 'site' table: {result[0]}\")\n"
   ]
  },
  {
   "cell_type": "code",
   "execution_count": null,
   "id": "c128c377",
   "metadata": {},
   "outputs": [],
   "source": [
    "df = pd.read_csv(\"new_site_param.csv\",\n",
    "                 dtype={'site_id': int, 'parameter_cd': str})\n",
    "merged_df = pd.merge(df, parameters, on='parameter_cd', how='left')\n",
    "merged_df['site_parameter_id'] = range(193, len(merged_df) + 193)\n",
    "merged_df['create_ts'] = dt.datetime.now()\n",
    "merged_df['update_ts'] = dt.datetime.now()\n",
    "merged_df = merged_df[['site_parameter_id', 'site_id', 'parameter_id', 'create_ts', 'update_ts']]"
   ]
  },
  {
   "cell_type": "code",
   "execution_count": null,
   "id": "fc95d762",
   "metadata": {},
   "outputs": [],
   "source": [
    "with du.connect_duckdb() as con:\n",
    "    con.register('new_site_param', merged_df)\n",
    "    con.execute(\"INSERT INTO site_parameter SELECT * FROM new_site_param\")"
   ]
  },
  {
   "cell_type": "code",
   "execution_count": null,
   "id": "5c64a413",
   "metadata": {},
   "outputs": [],
   "source": [
    "cbrfc_metadata = sl.cbrfc_sites_df.copy()\n",
    "cbrfc_metadata['site_id'] = range(28, len(cbrfc_metadata) + 28)\n",
    "cbrfc_metadata['create_ts'] = dt.datetime.now()\n",
    "cbrfc_metadata['update_ts'] = dt.datetime.now()\n",
    "cbrfc_metadata_cleaned = cbrfc_metadata[\n",
    "    ['site_id', 'site_cd', 'site_nm', 'site_dsc', 'agency_cd', 'agency_nm', \n",
    "    'lat_dd', 'lon_dd', 'elev_m', 'site_type', 'hydro_area_cd',\n",
    "    'hydro_area_nm', 'source', 'create_ts', 'update_ts']]"
   ]
  },
  {
   "cell_type": "code",
   "execution_count": null,
   "id": "db39b659",
   "metadata": {},
   "outputs": [],
   "source": [
    "print(sl.hydrologic_areas)\n",
    "ck = pd.read_csv(f\"https://www.usbr.gov/uc/water/hydrodata/reservoir_data/{bor_merged['site_cd'][0]}/csv/17.csv\")"
   ]
  },
  {
   "cell_type": "code",
   "execution_count": null,
   "id": "ef9681e0",
   "metadata": {},
   "outputs": [],
   "source": [
    "du.run_sql_file('../db/schema.sql')"
   ]
  },
  {
   "cell_type": "code",
   "execution_count": null,
   "id": "fed79bb3",
   "metadata": {},
   "outputs": [],
   "source": [
    "query = \"\"\"\n",
    "INSERT INTO site\n",
    "SELECT * FROM staging_table\n",
    "\"\"\"\n",
    "print(query)"
   ]
  },
  {
   "cell_type": "code",
   "execution_count": null,
   "id": "d70022ed",
   "metadata": {},
   "outputs": [],
   "source": [
    "with du.connect_duckdb() as con:\n",
    "    columns = con.execute(\"PRAGMA table_info('site')\").fetchall()\n",
    "    print(columns)"
   ]
  },
  {
   "cell_type": "code",
   "execution_count": null,
   "id": "1a345ca3",
   "metadata": {},
   "outputs": [],
   "source": [
    "with du.connect_duckdb() as con:\n",
    "        try:\n",
    "            con.register('staging_table', cbrfc_metadata_cleaned)\n",
    "            con.execute(query)\n",
    "            logging.info(f\"✅ Successfully executed SQL query: {query}\")\n",
    "        except Exception as e:\n",
    "            logging.error(f\"❌ Error executing SQL file {query}: {e}\")\n",
    "            raise\n"
   ]
  },
  {
   "cell_type": "code",
   "execution_count": null,
   "id": "f1b45a1c",
   "metadata": {},
   "outputs": [],
   "source": [
    "with du.connect_duckdb() as con:\n",
    "    # Verify the data was inserted\n",
    "    result = con.execute(\"SELECT COUNT(*) FROM site\").fetchone()\n",
    "    print(f\"Number of rows in 'site' table: {result[0]}\")\n",
    "    logging.info(f\"Number of rows in 'site' table: {result[0]}\")\n"
   ]
  },
  {
   "cell_type": "code",
   "execution_count": null,
   "id": "7b46b9f7",
   "metadata": {},
   "outputs": [],
   "source": [
    "with du.connect_duckdb() as con:\n",
    "    # Verify the data was inserted\n",
    "    result = con.execute(\"SELECT * FROM site\").df()"
   ]
  },
  {
   "cell_type": "code",
   "execution_count": null,
   "id": "23f28ffd",
   "metadata": {},
   "outputs": [],
   "source": [
    "result.to_csv('site_metadata.csv', index=False)"
   ]
  }
 ],
 "metadata": {
  "kernelspec": {
   "display_name": ".venv",
   "language": "python",
   "name": "python3"
  },
  "language_info": {
   "codemirror_mode": {
    "name": "ipython",
    "version": 3
   },
   "file_extension": ".py",
   "mimetype": "text/x-python",
   "name": "python",
   "nbconvert_exporter": "python",
   "pygments_lexer": "ipython3",
   "version": "3.12.9"
  }
 },
 "nbformat": 4,
 "nbformat_minor": 5
}
