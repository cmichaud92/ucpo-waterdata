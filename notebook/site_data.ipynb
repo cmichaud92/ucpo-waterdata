{
 "cells": [
  {
   "cell_type": "code",
   "execution_count": 10,
   "id": "5627f57a",
   "metadata": {},
   "outputs": [
    {
     "name": "stdout",
     "output_type": "stream",
     "text": [
      "['/Users/christophermichaud/.local/share/uv/python/cpython-3.12.9-macos-aarch64-none/lib/python312.zip', '/Users/christophermichaud/.local/share/uv/python/cpython-3.12.9-macos-aarch64-none/lib/python3.12', '/Users/christophermichaud/.local/share/uv/python/cpython-3.12.9-macos-aarch64-none/lib/python3.12/lib-dynload', '', '/Users/christophermichaud/git_projects/ucpo_waterdata/.venv/lib/python3.12/site-packages', '../src', '/Users/christophermichaud/git_projects/ucpo_waterdata/.venv/lib/python3.12/site-packages/setuptools/_vendor', '../src']\n"
     ]
    }
   ],
   "source": [
    "import pandas as pd\n",
    "import requests\n",
    "import sys\n",
    "import logging\n",
    "import os\n",
    "import datetime as dt\n",
    "sys.path.append('../src')\n",
    "print(sys.path)  # Debug: check if '../src' is in sys.path\n",
    "\n",
    "from utils.fetch_data import fetch_nwis_data\n",
    "import utils.duckdb_utils as du\n",
    "import utils.site_list as sl\n",
    "\n"
   ]
  },
  {
   "cell_type": "code",
   "execution_count": 2,
   "id": "ad751b63",
   "metadata": {},
   "outputs": [],
   "source": [
    "# Configure logging ------------------------------------------------\n",
    "os.makedirs('logs', exist_ok=True)\n",
    "log_name = 'logs/' + dt.datetime.now().strftime('%Y-%m-%d_%H-%M-%S') + '.log'\n",
    "logging.basicConfig(filename=log_name,\n",
    "                    level=logging.INFO,\n",
    "                    format='%(asctime)s - %(levelname)s - %(message)s')\n",
    "# -------------------------------------------------------------------"
   ]
  },
  {
   "cell_type": "code",
   "execution_count": 15,
   "id": "f6f98119",
   "metadata": {},
   "outputs": [
    {
     "name": "stdout",
     "output_type": "stream",
     "text": [
      "['09152500', '09095500', '09106150', '09106485', '09163500', '09306500', '09251000', '09260050', '09260000', '09261000', '09315000', '09302000', '09180000', '09328960', '09147022', '09041395', '09379900']\n",
      "['09041395', '09095500', '09106150', '09106485', '09147022', '09152500', '09163500', '09180000', '09251000', '09260000', '09260050', '09261000', '09302000', '09306500', '09315000', '09328960', '09379900']\n",
      "    site_cd                         site_nm\n",
      "0  09261000     GREEN RIVER NEAR JENSEN, UT\n",
      "1  09315000  GREEN RIVER AT GREEN RIVER, UT\n"
     ]
    }
   ],
   "source": [
    "print(sl.nwis_sites)\n",
    "sites = \", \".join(sl.nwis_sites)\n",
    "\n",
    "with du.connect_duckdb() as con:\n",
    "    result = con.execute(\"SELECT site_cd from site WHERE agency_cd = 'USGS'\").fetchall()\n",
    "    sites = [row[0] for row in result]\n",
    "    print(sites)\n",
    "\n",
    "with du.connect_duckdb() as con:\n",
    "    result = con.execute(\"SELECT site_cd, site_nm from site WHERE agency_cd = 'USGS' AND hydro_area_cd = 'GR'\").df()\n",
    "    print(result)\n",
    "    "
   ]
  },
  {
   "cell_type": "code",
   "execution_count": 5,
   "id": "6be0ac66",
   "metadata": {},
   "outputs": [],
   "source": [
    "nwis_rename_map = {\n",
    "    'site_no': 'site_cd',\n",
    "    'station_nm': 'site_nm',\n",
    "    'agency_cd': 'agency_cd',\n",
    "    'dec_lat_va': 'lat_dd',\n",
    "    'dec_long_va': 'lon_dd',\n",
    "    'alt_va': 'elev_ft',\n",
    "    'site_tp_cd': 'site_type'\n",
    "    }\n",
    "\n",
    "bor_rename_map = {\n",
    "    'site_id': 'site_cd', 'site_metadata.site_name': 'site_nm', \n",
    "    'site_metadata.lat': 'lat_dd', 'site_metadata.longi': 'lon_dd', \n",
    "    'site_metadata.elevation': 'elev_ft',\n",
    "\n",
    "}"
   ]
  },
  {
   "cell_type": "code",
   "execution_count": null,
   "id": "47d99f00",
   "metadata": {},
   "outputs": [],
   "source": [
    "nwis_metadata = fetch_nwis_data(\n",
    "    site=\",\".join(sites),\n",
    "    service_code='site')"
   ]
  },
  {
   "cell_type": "code",
   "execution_count": 17,
   "id": "092ccabc",
   "metadata": {},
   "outputs": [],
   "source": [
    "import requests\n",
    "\n",
    "def get_series_catalog(site, services=(\"iv\", \"dv\")):\n",
    "    \n",
    "    for service in services:\n",
    "        url = f\"https://waterservices.usgs.gov/nwis/{service}/?sites={site}&parameterCd=all&seriesCatalogOutput=true&format=json\"\n",
    "        try:\n",
    "            response = requests.get(url)\n",
    "            response.raise_for_status()\n",
    "            data = response.json()\n",
    "            return data, service\n",
    "        except requests.exceptions.HTTPError as e:\n",
    "            if response.status_code == 400:\n",
    "                continue  # No data for this service, try next\n",
    "            else:\n",
    "                print(f\"HTTP error for site {site} ({service}): {e}\")\n",
    "                break\n",
    "        except Exception as e:\n",
    "            print(f\"Error fetching {service} data for site {site}: {e}\")\n",
    "            break\n",
    "    return None, None\n",
    "\n",
    "# Example usage\n",
    "site = \"09315000\"  # Example site number\n",
    "service = get_series_catalog(site)"
   ]
  },
  {
   "cell_type": "code",
   "execution_count": 14,
   "id": "76df6a9e",
   "metadata": {},
   "outputs": [
    {
     "name": "stdout",
     "output_type": "stream",
     "text": [
      "Error fetching data for site 09041395: 400 Client Error:  for url: https://waterservices.usgs.gov/nwis/dv/?sites=09041395&parameterCd=all&seriesCatalogOutput=true&format=json\n",
      "Error fetching data for site 09095500: 400 Client Error:  for url: https://waterservices.usgs.gov/nwis/dv/?sites=09095500&parameterCd=all&seriesCatalogOutput=true&format=json\n",
      "Error fetching data for site 09106150: 400 Client Error:  for url: https://waterservices.usgs.gov/nwis/dv/?sites=09106150&parameterCd=all&seriesCatalogOutput=true&format=json\n",
      "Error fetching data for site 09106485: 400 Client Error:  for url: https://waterservices.usgs.gov/nwis/dv/?sites=09106485&parameterCd=all&seriesCatalogOutput=true&format=json\n",
      "Error fetching data for site 09147022: 400 Client Error:  for url: https://waterservices.usgs.gov/nwis/dv/?sites=09147022&parameterCd=all&seriesCatalogOutput=true&format=json\n",
      "Error fetching data for site 09152500: 400 Client Error:  for url: https://waterservices.usgs.gov/nwis/dv/?sites=09152500&parameterCd=all&seriesCatalogOutput=true&format=json\n",
      "Error fetching data for site 09163500: 400 Client Error:  for url: https://waterservices.usgs.gov/nwis/dv/?sites=09163500&parameterCd=all&seriesCatalogOutput=true&format=json\n",
      "Error fetching data for site 09180000: 400 Client Error:  for url: https://waterservices.usgs.gov/nwis/dv/?sites=09180000&parameterCd=all&seriesCatalogOutput=true&format=json\n",
      "Error fetching data for site 09251000: 400 Client Error:  for url: https://waterservices.usgs.gov/nwis/dv/?sites=09251000&parameterCd=all&seriesCatalogOutput=true&format=json\n",
      "Error fetching data for site 09260000: 400 Client Error:  for url: https://waterservices.usgs.gov/nwis/dv/?sites=09260000&parameterCd=all&seriesCatalogOutput=true&format=json\n",
      "Error fetching data for site 09260050: 400 Client Error:  for url: https://waterservices.usgs.gov/nwis/dv/?sites=09260050&parameterCd=all&seriesCatalogOutput=true&format=json\n",
      "Error fetching data for site 09261000: 400 Client Error:  for url: https://waterservices.usgs.gov/nwis/dv/?sites=09261000&parameterCd=all&seriesCatalogOutput=true&format=json\n",
      "Error fetching data for site 09302000: 400 Client Error:  for url: https://waterservices.usgs.gov/nwis/dv/?sites=09302000&parameterCd=all&seriesCatalogOutput=true&format=json\n",
      "Error fetching data for site 09306500: 400 Client Error:  for url: https://waterservices.usgs.gov/nwis/dv/?sites=09306500&parameterCd=all&seriesCatalogOutput=true&format=json\n",
      "Error fetching data for site 09315000: 400 Client Error:  for url: https://waterservices.usgs.gov/nwis/dv/?sites=09315000&parameterCd=all&seriesCatalogOutput=true&format=json\n",
      "Error fetching data for site 09328960: 400 Client Error:  for url: https://waterservices.usgs.gov/nwis/dv/?sites=09328960&parameterCd=all&seriesCatalogOutput=true&format=json\n",
      "Error fetching data for site 09379900: 400 Client Error:  for url: https://waterservices.usgs.gov/nwis/dv/?sites=09379900&parameterCd=all&seriesCatalogOutput=true&format=json\n"
     ]
    }
   ],
   "source": [
    "# Fetching data from USGS NWIS for each site\n",
    "results = []\n",
    "for site in sites:\n",
    "    url = (\n",
    "        f'https://waterservices.usgs.gov/nwis/dv/?sites={site}'\n",
    "        f'&parameterCd=all&seriesCatalogOutput=true&format=json'\n",
    "    )\n",
    "    try:\n",
    "        response = requests.get(url)\n",
    "        response.raise_for_status()  # Raise an error for bad responses\n",
    "        data = response.json()\n",
    "\n",
    "        time_series_list = data.get(\"value\", {}).get(\"timeSeries\", [])\n",
    "        for series in time_series_list:\n",
    "            results.append({\n",
    "                \"site_cd\": series.get(\"sourceInfo\", {}).get(\"siteCode\", [{}])[0].get(\"value\"),\n",
    "                \"site_nm\": series.get(\"sourceInfo\", {}).get(\"siteName\"),\n",
    "                \"parameter_cd\": series.get(\"variable\", {}).get(\"variableCode\", [{}])[0].get(\"value\"),\n",
    "                \"parameter_nm\": series.get(\"variable\", {}).get(\"variableName\"),\n",
    "                \"start_date\": series.get(\"variableTimeInterval\", {}).get(\"start\"),\n",
    "                \"end_date\": series.get(\"variableTimeInterval\", {}).get(\"end\"),\n",
    "            })\n",
    "    except Exception as e:\n",
    "        print(f\"Error fetching data for site {site}: {e}\")\n",
    "\n",
    "df = pd.DataFrame(results)\n",
    "\n"
   ]
  },
  {
   "cell_type": "code",
   "execution_count": null,
   "id": "f56e7245",
   "metadata": {},
   "outputs": [],
   "source": [
    "nwis_metadata = fetch_nwis_data(\n",
    "    site=sites,\n",
    "    service_code='site')\n",
    "\n",
    "selected = nwis_metadata[list(nwis_rename_map)].rename(columns=nwis_rename_map).reset_index(drop=True)\n",
    "merged = selected.merge(sl.hydrologic_areas, on='site_cd', how='left')\n",
    "merged['elev_m'] = (merged['elev_ft'] * 0.3048).round()\n",
    "merged['lat_dd'] = merged['lat_dd'].round(7)\n",
    "merged['lon_dd'] = merged['lon_dd'].round(7)\n",
    "merged['agency_nm'] = 'US Geological Survey'\n",
    "merged['site_type'] = merged['site_type'].str.replace('ST', 'Stream')\n",
    "merged['site_type'] = merged['site_type'].str.replace('LK', 'Lake')\n",
    "merged['source'] = 'NWIS API'\n",
    "merged['site_dsc'] = None\n",
    "merged['site_id'] = range(1, len(merged) + 1)\n",
    "merged['create_ts'] = dt.datetime.now()\n",
    "merged['update_ts'] = dt.datetime.now()\n",
    "\n",
    "nwis_metadata_cleaned = merged[\n",
    "    ['site_id', 'site_cd', 'site_nm', 'site_dsc', 'agency_cd', 'agency_nm', \n",
    "    'lat_dd', 'lon_dd', 'elev_m', 'site_type', 'hydro_area_cd',\n",
    "    'hydro_area_nm', 'source', 'create_ts', 'update_ts']].sort_values(by='site_cd')\n"
   ]
  },
  {
   "cell_type": "code",
   "execution_count": 5,
   "id": "0f9b9990",
   "metadata": {},
   "outputs": [],
   "source": [
    "bor_metadata = pd.read_csv(\"https://www.usbr.gov/uc/water/hydrodata/reservoir_data/meta.csv\")\n",
    "bor_selected = bor_metadata[list(bor_rename_map)].rename(columns=bor_rename_map).reset_index(drop=True)\n",
    "bor_selected['site_cd'] = bor_selected['site_cd'].astype(str)\n",
    "bor_filtered = bor_selected[bor_selected['site_cd'].isin(sl.bor_sites)].drop_duplicates(subset='site_cd')\n",
    "\n",
    "bor_merged = bor_filtered.merge(sl.hydrologic_areas, on='site_cd', how='left')\n",
    "bor_merged['elev_m'] = (bor_merged['elev_ft'] * 0.3048).round()\n",
    "bor_merged['lat_dd'] = bor_merged['lat_dd'].round(7)\n",
    "bor_merged['lon_dd'] = bor_merged['lon_dd'].round(7)\n",
    "bor_merged['agency_nm'] = 'US Bureau of Reclamation'\n",
    "bor_merged['agency_cd'] = 'BOR'\n",
    "bor_merged['site_type'] = \"Lake\"\n",
    "bor_merged['source'] = 'https://www.usbr.gov/uc/water/hydrodata/reservoir_data/<site_cd>/csv/<parameter_cd>.csv'\n",
    "bor_merged['site_dsc'] = None\n",
    "bor_merged['site_id'] = range(18, len(bor_merged) + 18)\n",
    "bor_merged['create_ts'] = dt.datetime.now()\n",
    "bor_merged['update_ts'] = dt.datetime.now()\n",
    "\n",
    "bor_metadata_cleaned = bor_merged[\n",
    "    ['site_id', 'site_cd', 'site_nm', 'site_dsc', 'agency_cd', 'agency_nm', \n",
    "    'lat_dd', 'lon_dd', 'elev_m', 'site_type', 'hydro_area_cd',\n",
    "    'hydro_area_nm', 'source', 'create_ts', 'update_ts']]\n",
    "\n"
   ]
  },
  {
   "cell_type": "code",
   "execution_count": 3,
   "id": "d21b4325",
   "metadata": {},
   "outputs": [
    {
     "name": "stdout",
     "output_type": "stream",
     "text": [
      "max site_id from 'site' table: 27\n"
     ]
    }
   ],
   "source": [
    "with du.connect_duckdb() as con:\n",
    "    # Verify the data was inserted\n",
    "    result = con.execute(\"SELECT MAX(site_id) FROM site\").fetchone()\n",
    "    print(f\"max site_id from 'site' table: {result[0]}\")\n",
    "    #logging.info(f\"Number of rows in 'site' table: {result[0]}\")\n"
   ]
  },
  {
   "cell_type": "code",
   "execution_count": 4,
   "id": "5c64a413",
   "metadata": {},
   "outputs": [],
   "source": [
    "cbrfc_metadata = sl.cbrfc_sites_df.copy()\n",
    "cbrfc_metadata['site_id'] = range(28, len(cbrfc_metadata) + 28)\n",
    "cbrfc_metadata['create_ts'] = dt.datetime.now()\n",
    "cbrfc_metadata['update_ts'] = dt.datetime.now()\n",
    "cbrfc_metadata_cleaned = cbrfc_metadata[\n",
    "    ['site_id', 'site_cd', 'site_nm', 'site_dsc', 'agency_cd', 'agency_nm', \n",
    "    'lat_dd', 'lon_dd', 'elev_m', 'site_type', 'hydro_area_cd',\n",
    "    'hydro_area_nm', 'source', 'create_ts', 'update_ts']]"
   ]
  },
  {
   "cell_type": "code",
   "execution_count": null,
   "id": "db39b659",
   "metadata": {},
   "outputs": [],
   "source": [
    "print(sl.hydrologic_areas)\n",
    "ck = pd.read_csv(f\"https://www.usbr.gov/uc/water/hydrodata/reservoir_data/{bor_merged['site_cd'][0]}/csv/17.csv\")"
   ]
  },
  {
   "cell_type": "code",
   "execution_count": null,
   "id": "ef9681e0",
   "metadata": {},
   "outputs": [],
   "source": [
    "du.run_sql_file('../db/schema.sql')"
   ]
  },
  {
   "cell_type": "code",
   "execution_count": 5,
   "id": "fed79bb3",
   "metadata": {},
   "outputs": [
    {
     "name": "stdout",
     "output_type": "stream",
     "text": [
      "\n",
      "INSERT INTO site\n",
      "SELECT * FROM staging_table\n",
      "\n"
     ]
    }
   ],
   "source": [
    "query = \"\"\"\n",
    "INSERT INTO site\n",
    "SELECT * FROM staging_table\n",
    "\"\"\"\n",
    "print(query)"
   ]
  },
  {
   "cell_type": "code",
   "execution_count": null,
   "id": "d70022ed",
   "metadata": {},
   "outputs": [],
   "source": [
    "with du.connect_duckdb() as con:\n",
    "    columns = con.execute(\"PRAGMA table_info('site')\").fetchall()\n",
    "    print(columns)"
   ]
  },
  {
   "cell_type": "code",
   "execution_count": 6,
   "id": "1a345ca3",
   "metadata": {},
   "outputs": [],
   "source": [
    "with du.connect_duckdb() as con:\n",
    "        try:\n",
    "            con.register('staging_table', cbrfc_metadata_cleaned)\n",
    "            con.execute(query)\n",
    "            logging.info(f\"✅ Successfully executed SQL query: {query}\")\n",
    "        except Exception as e:\n",
    "            logging.error(f\"❌ Error executing SQL file {query}: {e}\")\n",
    "            raise\n"
   ]
  },
  {
   "cell_type": "code",
   "execution_count": 16,
   "id": "f1b45a1c",
   "metadata": {},
   "outputs": [
    {
     "name": "stdout",
     "output_type": "stream",
     "text": [
      "Number of rows in 'site' table: 45\n"
     ]
    }
   ],
   "source": [
    "with du.connect_duckdb() as con:\n",
    "    # Verify the data was inserted\n",
    "    result = con.execute(\"SELECT COUNT(*) FROM site\").fetchone()\n",
    "    print(f\"Number of rows in 'site' table: {result[0]}\")\n",
    "    logging.info(f\"Number of rows in 'site' table: {result[0]}\")\n"
   ]
  },
  {
   "cell_type": "code",
   "execution_count": 7,
   "id": "7b46b9f7",
   "metadata": {},
   "outputs": [],
   "source": [
    "with du.connect_duckdb() as con:\n",
    "    # Verify the data was inserted\n",
    "    result = con.execute(\"SELECT * FROM site\").df()"
   ]
  },
  {
   "cell_type": "code",
   "execution_count": 21,
   "id": "23f28ffd",
   "metadata": {},
   "outputs": [],
   "source": [
    "result.to_csv('site_metadata.csv', index=False)"
   ]
  }
 ],
 "metadata": {
  "kernelspec": {
   "display_name": ".venv",
   "language": "python",
   "name": "python3"
  },
  "language_info": {
   "codemirror_mode": {
    "name": "ipython",
    "version": 3
   },
   "file_extension": ".py",
   "mimetype": "text/x-python",
   "name": "python",
   "nbconvert_exporter": "python",
   "pygments_lexer": "ipython3",
   "version": "3.12.9"
  }
 },
 "nbformat": 4,
 "nbformat_minor": 5
}
