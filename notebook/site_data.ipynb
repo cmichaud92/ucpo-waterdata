{
 "cells": [
  {
   "cell_type": "code",
   "execution_count": 1,
   "id": "5627f57a",
   "metadata": {},
   "outputs": [],
   "source": [
    "import pandas as pd\n",
    "import sys\n",
    "import logging\n",
    "import os\n",
    "import datetime as dt\n",
    "sys.path.append('../src')\n",
    "from utils.fetch_data import fetch_nwis_data\n",
    "import utils.duckdb_utils as du\n",
    "import utils.site_list as sl\n",
    "\n"
   ]
  },
  {
   "cell_type": "code",
   "execution_count": 2,
   "id": "ad751b63",
   "metadata": {},
   "outputs": [],
   "source": [
    "# Configure logging ------------------------------------------------\n",
    "os.makedirs('logs', exist_ok=True)\n",
    "log_name = 'logs/' + dt.datetime.now().strftime('%Y-%m-%d_%H-%M-%S') + '.log'\n",
    "logging.basicConfig(filename=log_name,\n",
    "                    level=logging.INFO,\n",
    "                    format='%(asctime)s - %(levelname)s - %(message)s')\n",
    "# -------------------------------------------------------------------"
   ]
  },
  {
   "cell_type": "code",
   "execution_count": 3,
   "id": "f6f98119",
   "metadata": {},
   "outputs": [
    {
     "name": "stdout",
     "output_type": "stream",
     "text": [
      "['09152500', '09095500', '09106150', '09106485', '09163500', '09306500', '09251000', '09260050', '09260000', '09261000', '09315000', '09302000', '09180000', '09328960', '09147022', '09041395', '09379900']\n"
     ]
    }
   ],
   "source": [
    "print(sl.nwis_sites)\n",
    "sites = \", \".join(sl.nwis_sites)"
   ]
  },
  {
   "cell_type": "code",
   "execution_count": null,
   "id": "6be0ac66",
   "metadata": {},
   "outputs": [],
   "source": [
    "nwis_rename_map = {\n",
    "    'site_no': 'site_cd',\n",
    "    'station_nm': 'site_nm',\n",
    "    'agency_cd': 'agency_cd',\n",
    "    'dec_lat_va': 'lat_dd',\n",
    "    'dec_long_va': 'lon_dd',\n",
    "    'alt_va': 'elev_ft',\n",
    "    'site_tp_cd': 'site_type'\n",
    "    }\n",
    "\n",
    "bor_rename_map = {\n",
    "    'site_id': 'site_cd', 'site_metadata.site_name': 'site_nm', \n",
    "    'site_metadata.lat': 'lat_dd', 'site_metadata.longi': 'lon_dd', \n",
    "    'site_metadata.elevation': 'elev_ft',\n",
    "\n",
    "}"
   ]
  },
  {
   "cell_type": "code",
   "execution_count": 5,
   "id": "f56e7245",
   "metadata": {},
   "outputs": [],
   "source": [
    "nwis_metadata = fetch_nwis_data(\n",
    "    site=sites,\n",
    "    service_code='site')\n",
    "\n",
    "selected = nwis_metadata[list(nwis_rename_map)].rename(columns=nwis_rename_map).reset_index(drop=True)\n",
    "merged = selected.merge(sl.hydrologic_areas, on='site_cd', how='left')\n",
    "merged['elev_m'] = (merged['elev_ft'] * 0.3048).round()\n",
    "merged['lat_dd'] = merged['lat_dd'].round(7)\n",
    "merged['lon_dd'] = merged['lon_dd'].round(7)\n",
    "merged['agency_nm'] = 'US Geological Survey'\n",
    "merged['site_type'] = merged['site_type'].str.replace('ST', 'Stream')\n",
    "merged['site_type'] = merged['site_type'].str.replace('LK', 'Lake')\n",
    "merged['source'] = 'NWIS API'\n",
    "merged['site_dsc'] = None\n",
    "merged['site_id'] = range(1, len(merged) + 1)\n",
    "merged['create_ts'] = dt.datetime.now()\n",
    "merged['update_ts'] = dt.datetime.now()\n",
    "\n",
    "nwis_metadata_cleaned = merged[\n",
    "    ['site_id', 'site_cd', 'site_nm', 'site_dsc', 'agency_cd', 'agency_nm', \n",
    "    'lat_dd', 'lon_dd', 'elev_m', 'site_type', 'hydro_area_cd',\n",
    "    'hydro_area_nm', 'source', 'create_ts', 'update_ts']].sort_values(by='site_cd')\n"
   ]
  },
  {
   "cell_type": "code",
   "execution_count": 13,
   "id": "0f9b9990",
   "metadata": {},
   "outputs": [],
   "source": [
    "bor_metadata = pd.read_csv(\"https://www.usbr.gov/uc/water/hydrodata/reservoir_data/meta.csv\")\n",
    "bor_selected = bor_metadata[list(bor_rename_map)].rename(columns=bor_rename_map).reset_index(drop=True)\n",
    "bor_selected['site_cd'] = bor_selected['site_cd'].astype(str)\n",
    "bor_filtered = bor_selected[bor_selected['site_cd'].isin(sl.bor_sites)].drop_duplicates(subset='site_cd')\n",
    "\n",
    "bor_merged = bor_filtered.merge(sl.hydrologic_areas, on='site_cd', how='left')\n",
    "bor_merged['elev_m'] = (merged['elev_ft'] * 0.3048).round()\n",
    "bor_merged['lat_dd'] = merged['lat_dd'].round(7)\n",
    "bor_merged['lon_dd'] = merged['lon_dd'].round(7)\n",
    "bor_merged['agency_nm'] = 'US Bureau of Reclamation'\n",
    "bor_merged['agency_cd'] = 'BOR'\n",
    "bor_merged['site_type'] = \"Lake\"\n",
    "bor_merged['source'] = 'https://www.usbr.gov/uc/water/hydrodata/reservoir_data/<site_cd>/csv/<parameter_cd>.csv'\n",
    "bor_merged['site_dsc'] = None\n",
    "bor_merged['site_id'] = range(18, len(bor_merged) + 18)\n",
    "bor_merged['create_ts'] = dt.datetime.now()\n",
    "bor_merged['update_ts'] = dt.datetime.now()\n",
    "\n",
    "bor_metadata_cleaned = bor_merged[\n",
    "    ['site_id', 'site_cd', 'site_nm', 'site_dsc', 'agency_cd', 'agency_nm', \n",
    "    'lat_dd', 'lon_dd', 'elev_m', 'site_type', 'hydro_area_cd',\n",
    "    'hydro_area_nm', 'source', 'create_ts', 'update_ts']]\n",
    "\n"
   ]
  },
  {
   "cell_type": "code",
   "execution_count": 9,
   "id": "d21b4325",
   "metadata": {},
   "outputs": [
    {
     "name": "stdout",
     "output_type": "stream",
     "text": [
      "max site_id from 'site' table: 17\n"
     ]
    }
   ],
   "source": [
    "with du.connect_duckdb() as con:\n",
    "    # Verify the data was inserted\n",
    "    result = con.execute(\"SELECT MAX(site_id) FROM site\").fetchone()\n",
    "    print(f\"max site_id from 'site' table: {result[0]}\")\n",
    "    #logging.info(f\"Number of rows in 'site' table: {result[0]}\")\n"
   ]
  },
  {
   "cell_type": "code",
   "execution_count": 8,
   "id": "db39b659",
   "metadata": {},
   "outputs": [
    {
     "name": "stdout",
     "output_type": "stream",
     "text": [
      "     site_cd hydro_area_cd               hydro_area_nm\n",
      "0   09152500            GU              Gunnison River\n",
      "1   09095500            CO              Colorado River\n",
      "2   09106150            CO              Colorado River\n",
      "3   09106485            CO              Colorado River\n",
      "4   09163500            CO              Colorado River\n",
      "5   09306500            WH                 White River\n",
      "6   09251000            YA                 Yampa River\n",
      "7   09260050            YA                 Yampa River\n",
      "8   09260000            LS          Little Snake River\n",
      "9   09261000            GR                 Green River\n",
      "10  09315000            GR                 Green River\n",
      "11  09302000            DU              Duchesne River\n",
      "12  09180000            DO               Dolores River\n",
      "13  09328960            CO              Colorado River\n",
      "14  09147022         RIDGE          Ridgeway Reservoir\n",
      "15  09041395          WOLF  Wolford Mountain Reservoir\n",
      "16  09379900        POWELL                 Lake Powell\n",
      "17       913           BLM         Blue Mesa Reservoir\n",
      "18       914          MORR      Morrow Point Reservoir\n",
      "19       915           CRY           Crystal Reservoir\n",
      "20       917           FLA     Flaming Gorge Reservoir\n",
      "21       919        POWELL                 Lake Powell\n",
      "22       928          STAR        Starvation Reservoir\n",
      "23      1999           GRA            Granby Reservoir\n",
      "24      2000           GRE    Green Mountain Reservoir\n",
      "25      2002           RDI             Ruedi Reservoir\n",
      "26      2005           WIL     Williams Fork Reservoir\n"
     ]
    }
   ],
   "source": [
    "print(sl.hydrologic_areas)\n",
    "ck = pd.read_csv(f\"https://www.usbr.gov/uc/water/hydrodata/reservoir_data/{bor_merged['site_cd'][0]}/csv/17.csv\")"
   ]
  },
  {
   "cell_type": "code",
   "execution_count": null,
   "id": "ef9681e0",
   "metadata": {},
   "outputs": [],
   "source": [
    "du.run_sql_file('../db/schema.sql')"
   ]
  },
  {
   "cell_type": "code",
   "execution_count": 14,
   "id": "fed79bb3",
   "metadata": {},
   "outputs": [
    {
     "name": "stdout",
     "output_type": "stream",
     "text": [
      "\n",
      "INSERT INTO site\n",
      "SELECT * FROM staging_table\n",
      "\n"
     ]
    }
   ],
   "source": [
    "query = \"\"\"\n",
    "INSERT INTO site\n",
    "SELECT * FROM staging_table\n",
    "\"\"\"\n",
    "print(query)"
   ]
  },
  {
   "cell_type": "code",
   "execution_count": null,
   "id": "d70022ed",
   "metadata": {},
   "outputs": [],
   "source": [
    "with du.connect_duckdb() as con:\n",
    "    columns = con.execute(\"PRAGMA table_info('site')\").fetchall()\n",
    "    print(columns)"
   ]
  },
  {
   "cell_type": "code",
   "execution_count": 15,
   "id": "1a345ca3",
   "metadata": {},
   "outputs": [],
   "source": [
    "with du.connect_duckdb() as con:\n",
    "        try:\n",
    "            con.register('staging_table', bor_metadata_cleaned)\n",
    "            con.execute(query)\n",
    "            logging.info(f\"✅ Successfully executed SQL query: {query}\")\n",
    "        except Exception as e:\n",
    "            logging.error(f\"❌ Error executing SQL file {query}: {e}\")\n",
    "            raise\n"
   ]
  },
  {
   "cell_type": "code",
   "execution_count": 16,
   "id": "f1b45a1c",
   "metadata": {},
   "outputs": [
    {
     "name": "stdout",
     "output_type": "stream",
     "text": [
      "Number of rows in 'site' table: 27\n"
     ]
    }
   ],
   "source": [
    "with du.connect_duckdb() as con:\n",
    "    # Verify the data was inserted\n",
    "    result = con.execute(\"SELECT COUNT(*) FROM site\").fetchone()\n",
    "    print(f\"Number of rows in 'site' table: {result[0]}\")\n",
    "    logging.info(f\"Number of rows in 'site' table: {result[0]}\")\n"
   ]
  },
  {
   "cell_type": "code",
   "execution_count": null,
   "id": "7b46b9f7",
   "metadata": {},
   "outputs": [],
   "source": [
    "with du.connect_duckdb() as con:\n",
    "    # Verify the data was inserted\n",
    "    result = con.execute(\"SELECT * FROM site\").df()"
   ]
  },
  {
   "cell_type": "code",
   "execution_count": null,
   "id": "23f28ffd",
   "metadata": {},
   "outputs": [],
   "source": []
  }
 ],
 "metadata": {
  "kernelspec": {
   "display_name": ".venv",
   "language": "python",
   "name": "python3"
  },
  "language_info": {
   "codemirror_mode": {
    "name": "ipython",
    "version": 3
   },
   "file_extension": ".py",
   "mimetype": "text/x-python",
   "name": "python",
   "nbconvert_exporter": "python",
   "pygments_lexer": "ipython3",
   "version": "3.12.9"
  }
 },
 "nbformat": 4,
 "nbformat_minor": 5
}
