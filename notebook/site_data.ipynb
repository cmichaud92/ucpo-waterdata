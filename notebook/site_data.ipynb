{
 "cells": [
  {
   "cell_type": "code",
   "execution_count": null,
   "id": "5627f57a",
   "metadata": {},
   "outputs": [],
   "source": [
    "import pandas as pd\n",
    "import sys\n",
    "import logging\n",
    "import os\n",
    "import datetime as dt\n",
    "sys.path.append('../src')\n",
    "from utils.fetch_data import fetch_nwis_data\n",
    "import utils.duckdb_utils as du\n",
    "import utils.site_list as sl\n",
    "\n"
   ]
  },
  {
   "cell_type": "code",
   "execution_count": null,
   "id": "ad751b63",
   "metadata": {},
   "outputs": [],
   "source": [
    "# Configure logging ------------------------------------------------\n",
    "os.makedirs('logs', exist_ok=True)\n",
    "log_name = 'logs/' + dt.datetime.now().strftime('%Y-%m-%d_%H-%M-%S') + '.log'\n",
    "logging.basicConfig(filename=log_name,\n",
    "                    level=logging.INFO,\n",
    "                    format='%(asctime)s - %(levelname)s - %(message)s')\n",
    "# -------------------------------------------------------------------"
   ]
  },
  {
   "cell_type": "code",
   "execution_count": null,
   "id": "f6f98119",
   "metadata": {},
   "outputs": [],
   "source": [
    "print(sl.nwis_sites)\n",
    "sites = \", \".join(sl.nwis_sites)"
   ]
  },
  {
   "cell_type": "code",
   "execution_count": null,
   "id": "6be0ac66",
   "metadata": {},
   "outputs": [],
   "source": [
    "nwis_rename_map = {\n",
    "    'site_no': 'site_cd',\n",
    "    'station_nm': 'site_nm',\n",
    "    'agency_cd': 'agency_cd',\n",
    "    'dec_lat_va': 'lat_dd',\n",
    "    'dec_long_va': 'lon_dd',\n",
    "    'alt_va': 'elev_ft',\n",
    "    'site_tp_cd': 'site_type'}"
   ]
  },
  {
   "cell_type": "code",
   "execution_count": null,
   "id": "f56e7245",
   "metadata": {},
   "outputs": [],
   "source": [
    "nwis_metadata = fetch_nwis_data(\n",
    "    site=sites,\n",
    "    service_code='site')\n",
    "\n",
    "selected = nwis_metadata[list(nwis_rename_map)].rename(columns=nwis_rename_map).reset_index(drop=True)\n",
    "merged = selected.merge(sl.hydrologic_areas, on='site_cd', how='left')\n",
    "merged['elev_m'] = (merged['elev_ft'] * 0.3048).round()\n",
    "merged['lat_dd'] = merged['lat_dd'].round(7)\n",
    "merged['lon_dd'] = merged['lon_dd'].round(7)\n",
    "merged['agency_nm'] = 'US Geological Survey'\n",
    "merged['site_type'] = merged['site_type'].str.replace('ST', 'Stream')\n",
    "merged['site_type'] = merged['site_type'].str.replace('LK', 'Lake')\n",
    "merged['source'] = 'NWIS API'\n",
    "merged['site_dsc'] = None\n",
    "merged['site_id'] = range(1, len(merged) + 1)\n",
    "merged['create_ts'] = dt.datetime.now()\n",
    "merged['update_ts'] = dt.datetime.now()\n",
    "\n",
    "nwis_metadata_cleaned = merged[\n",
    "    ['site_id', 'site_cd', 'site_nm', 'site_dsc', 'agency_cd', 'agency_nm', \n",
    "    'lat_dd', 'lon_dd', 'elev_m', 'site_type', 'hydro_area_cd',\n",
    "    'hydro_area_nm', 'source', 'create_ts', 'update_ts']].sort_values(by='site_cd')\n"
   ]
  },
  {
   "cell_type": "code",
   "execution_count": null,
   "id": "ef9681e0",
   "metadata": {},
   "outputs": [],
   "source": [
    "du.run_sql_file('../db/schema.sql')"
   ]
  },
  {
   "cell_type": "code",
   "execution_count": null,
   "id": "fed79bb3",
   "metadata": {},
   "outputs": [],
   "source": [
    "query = \"\"\"\n",
    "INSERT INTO site\n",
    "SELECT * FROM staging_table\n",
    "\"\"\"\n",
    "print(query)"
   ]
  },
  {
   "cell_type": "code",
   "execution_count": null,
   "id": "d70022ed",
   "metadata": {},
   "outputs": [],
   "source": [
    "with du.connect_duckdb() as con:\n",
    "    columns = con.execute(\"PRAGMA table_info('site')\").fetchall()\n",
    "    print(columns)"
   ]
  },
  {
   "cell_type": "code",
   "execution_count": null,
   "id": "1a345ca3",
   "metadata": {},
   "outputs": [],
   "source": [
    "with du.connect_duckdb() as con:\n",
    "        try:\n",
    "            con.register('staging_table', nwis_metadata_cleaned)\n",
    "            con.execute(query)\n",
    "            logging.info(f\"✅ Successfully executed SQL query: {query}\")\n",
    "        except Exception as e:\n",
    "            logging.error(f\"❌ Error executing SQL file {query}: {e}\")\n",
    "            raise\n"
   ]
  },
  {
   "cell_type": "code",
   "execution_count": null,
   "id": "f1b45a1c",
   "metadata": {},
   "outputs": [],
   "source": [
    "with du.connect_duckdb() as con:\n",
    "    # Verify the data was inserted\n",
    "    result = con.execute(\"SELECT COUNT(*) FROM site\").fetchone()\n",
    "    print(f\"Number of rows in 'site' table: {result[0]}\")\n",
    "    logging.info(f\"Number of rows in 'site' table: {result[0]}\")\n"
   ]
  },
  {
   "cell_type": "code",
   "execution_count": null,
   "id": "7b46b9f7",
   "metadata": {},
   "outputs": [],
   "source": [
    "with du.connect_duckdb() as con:\n",
    "    # Verify the data was inserted\n",
    "    result = con.execute(\"SELECT * FROM site\").df()"
   ]
  },
  {
   "cell_type": "code",
   "execution_count": null,
   "id": "23f28ffd",
   "metadata": {},
   "outputs": [],
   "source": []
  }
 ],
 "metadata": {
  "kernelspec": {
   "display_name": ".venv",
   "language": "python",
   "name": "python3"
  },
  "language_info": {
   "codemirror_mode": {
    "name": "ipython",
    "version": 3
   },
   "file_extension": ".py",
   "mimetype": "text/x-python",
   "name": "python",
   "nbconvert_exporter": "python",
   "pygments_lexer": "ipython3",
   "version": "3.12.9"
  }
 },
 "nbformat": 4,
 "nbformat_minor": 5
}
