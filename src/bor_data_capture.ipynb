{
 "cells": [
  {
   "cell_type": "code",
   "execution_count": 4,
   "id": "8a15897f",
   "metadata": {},
   "outputs": [],
   "source": [
    "import pandas as pd\n",
    "import re\n"
   ]
  },
  {
   "cell_type": "code",
   "execution_count": 35,
   "id": "9ca0e132",
   "metadata": {},
   "outputs": [],
   "source": [
    "rename_map = {\n",
    "    'site_id': 'site_cd', 'datatype_id': 'parameter_cd', 'site_metadata.site_name': 'site_nm', \n",
    "    'datatype_metadata.datatype_common_name': 'parameter_nm', \n",
    "    'datatype_metadata.physical_quantity_name': 'alt_parameter_nm', \n",
    "    'datatype_metadata.unit_name': 'units', 'site_metadata.lat': 'latitude_dd',\n",
    "    'site_metadata.longi': 'longitude_dd', 'site_metadata.elevation': 'elevation_m',\n",
    "\n",
    "}"
   ]
  },
  {
   "cell_type": "code",
   "execution_count": null,
   "id": "aa992bab",
   "metadata": {},
   "outputs": [
    {
     "name": "stdout",
     "output_type": "stream",
     "text": [
      "Pattern: Gramby|Green\\ Mountain|Ruedi|Williams\\ Fork|Willow\\ Creek|Windy\\ Gap|Wolford|Flaming\\ Gorge|Granby|Green\\ Mountain|Ruedi|Williams\\ Fork|Willow\\ Creek|Windy\\ Gap|Wolford\\ Mountain|Flaming\\ Gorge|Starvation|Catamount|Stagecoach|Blue\\ Mesa|Crystal|Morrow\\ Point|Ridgeway\n"
     ]
    }
   ],
   "source": [
    "names = [\n",
    "    \"Gramby\", \"Green Mountain\", \"Ruedi\", \"Williams Fork\", \"Willow Creek\", \n",
    "    \"Windy Gap\", \"Wolford\", \"Flaming Gorge\", \"Granby\", \"Green Mountain\", \n",
    "    \"Ruedi\", \"Williams Fork\", \"Willow Creek\", \"Windy Gap\", \"Wolford Mountain\", \n",
    "    \"Flaming Gorge\", \"Starvation\", \"Catamount\", \"Stagecoach\",\n",
    "    \"Blue Mesa\", \"Crystal\", \"Morrow Point\", \"Ridgeway\" \n",
    "    ]\n",
    "\n",
    "parameters = [17, 29, 42, 49] \n",
    "pattern = \"|\".join(re.escape(name) for name in names)\n",
    "\n",
    "print(\"Pattern:\", pattern)"
   ]
  },
  {
   "cell_type": "code",
   "execution_count": 42,
   "id": "589c5f5c",
   "metadata": {},
   "outputs": [
    {
     "name": "stdout",
     "output_type": "stream",
     "text": [
      "['storage' 'pool elevation' 'total release' 'inflow']\n"
     ]
    }
   ],
   "source": [
    "df = pd.read_csv(\"https://www.usbr.gov/uc/water/hydrodata/reservoir_data/meta.csv\")\n",
    "\n",
    "matches = df[(df[\"site_metadata.site_name\"].str.contains(pattern, case = False, na=False)) &\n",
    "             (df[\"site_metadata.db_site_code\"] == \"UC\") &\n",
    "             (df[\"datatype_id\"].isin(parameters))].sort_values(\"site_metadata.site_name\")\n",
    "\n",
    "selected = matches[list(rename_map)].rename(columns=rename_map).reset_index(drop=True)\n",
    "print(matches[\"datatype_metadata.datatype_common_name\"].unique())\n",
    "\n"
   ]
  }
 ],
 "metadata": {
  "kernelspec": {
   "display_name": ".venv",
   "language": "python",
   "name": "python3"
  },
  "language_info": {
   "codemirror_mode": {
    "name": "ipython",
    "version": 3
   },
   "file_extension": ".py",
   "mimetype": "text/x-python",
   "name": "python",
   "nbconvert_exporter": "python",
   "pygments_lexer": "ipython3",
   "version": "3.12.9"
  }
 },
 "nbformat": 4,
 "nbformat_minor": 5
}
